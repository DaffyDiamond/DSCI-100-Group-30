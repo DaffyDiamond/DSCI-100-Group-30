{
 "cells": [
  {
   "cell_type": "markdown",
   "id": "44dfc91b-6bad-47e9-b20f-67ecba1529ef",
   "metadata": {
    "tags": []
   },
   "source": [
    "# PREDICTING VANCOUVER WEATHER PROJECT REPORT"
   ]
  },
  {
   "cell_type": "markdown",
   "id": "c02bcb55-3c83-49d2-9f34-21beb963e387",
   "metadata": {
    "tags": []
   },
   "source": [
    "## Introduction\n",
    "*** intro here ***\n"
   ]
  },
  {
   "cell_type": "markdown",
   "id": "ee77326b-96eb-4bef-95d5-8b8fb5c819b9",
   "metadata": {
    "tags": []
   },
   "source": [
    "## Methods\n",
    "\n",
    "We will use the temperature (Celsius), feels-like temperature (Celsius), humidity (g/m^3), cloud cover (%), sea level pressure, and the wind speed (km/h) in order to determine the expected weather. Before working with the actual data, we are planning to predict the weather type by using common sense. For example, when the temperature is high, the expected precipitation is likely going to be on the lower side. Higher wind speed would indicate the higher precipitation rate. Then, we will use the functions and code that we learned from classification lessons to determine the actual weather type for specific hours in Vancouver. We are planning to create several different scatterplots with different y-axis: temperature, humidity, cloud cover, sea level pressure, and wind speed. The date will be the x-axis and we will categorize each point as its weather type for all graphs.\n",
    "\n"
   ]
  },
  {
   "cell_type": "markdown",
   "id": "43a6cba8-d110-411d-9307-a15844c391bc",
   "metadata": {},
   "source": [
    "First, we will load in the necesarry libraries"
   ]
  },
  {
   "cell_type": "code",
   "execution_count": 4,
   "id": "1c974c5d-895d-4876-b83f-05f3955cc87a",
   "metadata": {
    "tags": []
   },
   "outputs": [],
   "source": [
    "library(repr)\n",
    "library(tidyverse)\n",
    "library(tidymodels)\n"
   ]
  },
  {
   "cell_type": "markdown",
   "id": "45736791-b923-4e11-973b-3fd0a3fe2bb5",
   "metadata": {},
   "source": [
    "We will now read our data from the web"
   ]
  },
  {
   "cell_type": "code",
   "execution_count": 5,
   "id": "b88b8e24-5d10-4dfb-af46-173e77e4e573",
   "metadata": {},
   "outputs": [
    {
     "name": "stderr",
     "output_type": "stream",
     "text": [
      "\u001b[1mRows: \u001b[22m\u001b[34m17544\u001b[39m \u001b[1mColumns: \u001b[22m\u001b[34m24\u001b[39m\n",
      "\u001b[36m──\u001b[39m \u001b[1mColumn specification\u001b[22m \u001b[36m────────────────────────────────────────────────────────\u001b[39m\n",
      "\u001b[1mDelimiter:\u001b[22m \",\"\n",
      "\u001b[31mchr\u001b[39m   (5): name, preciptype, conditions, icon, stations\n",
      "\u001b[32mdbl\u001b[39m  (18): temp, feelslike, dew, humidity, precip, precipprob, snow, snowdep...\n",
      "\u001b[34mdttm\u001b[39m  (1): datetime\n",
      "\n",
      "\u001b[36mℹ\u001b[39m Use `spec()` to retrieve the full column specification for this data.\n",
      "\u001b[36mℹ\u001b[39m Specify the column types or set `show_col_types = FALSE` to quiet this message.\n"
     ]
    },
    {
     "data": {
      "text/html": [
       "<table class=\"dataframe\">\n",
       "<caption>A tibble: 5 × 24</caption>\n",
       "<thead>\n",
       "\t<tr><th scope=col>name</th><th scope=col>datetime</th><th scope=col>temp</th><th scope=col>feelslike</th><th scope=col>dew</th><th scope=col>humidity</th><th scope=col>precip</th><th scope=col>precipprob</th><th scope=col>preciptype</th><th scope=col>snow</th><th scope=col>⋯</th><th scope=col>sealevelpressure</th><th scope=col>cloudcover</th><th scope=col>visibility</th><th scope=col>solarradiation</th><th scope=col>solarenergy</th><th scope=col>uvindex</th><th scope=col>severerisk</th><th scope=col>conditions</th><th scope=col>icon</th><th scope=col>stations</th></tr>\n",
       "\t<tr><th scope=col>&lt;chr&gt;</th><th scope=col>&lt;dttm&gt;</th><th scope=col>&lt;dbl&gt;</th><th scope=col>&lt;dbl&gt;</th><th scope=col>&lt;dbl&gt;</th><th scope=col>&lt;dbl&gt;</th><th scope=col>&lt;dbl&gt;</th><th scope=col>&lt;dbl&gt;</th><th scope=col>&lt;chr&gt;</th><th scope=col>&lt;dbl&gt;</th><th scope=col>⋯</th><th scope=col>&lt;dbl&gt;</th><th scope=col>&lt;dbl&gt;</th><th scope=col>&lt;dbl&gt;</th><th scope=col>&lt;dbl&gt;</th><th scope=col>&lt;dbl&gt;</th><th scope=col>&lt;dbl&gt;</th><th scope=col>&lt;dbl&gt;</th><th scope=col>&lt;chr&gt;</th><th scope=col>&lt;chr&gt;</th><th scope=col>&lt;chr&gt;</th></tr>\n",
       "</thead>\n",
       "<tbody>\n",
       "\t<tr><td>vancouver</td><td>2020-12-31 00:00:00</td><td>5.9</td><td>3.0</td><td>5.3</td><td>95.97</td><td>1.376</td><td>100</td><td>rain</td><td>0</td><td>⋯</td><td>1005.7</td><td> 84.6</td><td>13</td><td>0</td><td>NA</td><td>0</td><td>NA</td><td>Rain, Partially cloudy</td><td>rain</td><td>71608099999,CWWA,71211099999,71784099999,71892099999,71042099999</td></tr>\n",
       "\t<tr><td>vancouver</td><td>2020-12-31 01:00:00</td><td>5.7</td><td>2.9</td><td>5.0</td><td>95.13</td><td>0.191</td><td>100</td><td>rain</td><td>0</td><td>⋯</td><td>1006.3</td><td>100.0</td><td>12</td><td>0</td><td>NA</td><td>0</td><td>NA</td><td>Rain, Overcast        </td><td>rain</td><td>71608099999,CWWA,71211099999,71784099999,71892099999,71042099999</td></tr>\n",
       "\t<tr><td>vancouver</td><td>2020-12-31 02:00:00</td><td>5.8</td><td>3.5</td><td>4.9</td><td>93.72</td><td>0.606</td><td>100</td><td>rain</td><td>0</td><td>⋯</td><td>1007.4</td><td> 71.2</td><td>16</td><td>0</td><td>NA</td><td>0</td><td>NA</td><td>Rain, Partially cloudy</td><td>rain</td><td>71608099999,CWWA,71211099999,71784099999,71892099999,71042099999</td></tr>\n",
       "\t<tr><td>vancouver</td><td>2020-12-31 03:00:00</td><td>5.7</td><td>3.7</td><td>4.8</td><td>94.11</td><td>0.108</td><td>100</td><td>rain</td><td>0</td><td>⋯</td><td>1008.5</td><td> 80.7</td><td>24</td><td>0</td><td>NA</td><td>0</td><td>NA</td><td>Rain, Partially cloudy</td><td>rain</td><td>71608099999,CWWA,71211099999,71784099999,71892099999,71042099999</td></tr>\n",
       "\t<tr><td>vancouver</td><td>2020-12-31 04:00:00</td><td>5.5</td><td>3.5</td><td>5.1</td><td>96.73</td><td>2.166</td><td>100</td><td>rain</td><td>0</td><td>⋯</td><td>1009.6</td><td>100.0</td><td> 6</td><td>0</td><td>NA</td><td>0</td><td>NA</td><td>Rain, Overcast        </td><td>rain</td><td>CWWA,71211099999,71775099999,71784099999,71892099999,71042099999</td></tr>\n",
       "</tbody>\n",
       "</table>\n"
      ],
      "text/latex": [
       "A tibble: 5 × 24\n",
       "\\begin{tabular}{lllllllllllllllllllll}\n",
       " name & datetime & temp & feelslike & dew & humidity & precip & precipprob & preciptype & snow & ⋯ & sealevelpressure & cloudcover & visibility & solarradiation & solarenergy & uvindex & severerisk & conditions & icon & stations\\\\\n",
       " <chr> & <dttm> & <dbl> & <dbl> & <dbl> & <dbl> & <dbl> & <dbl> & <chr> & <dbl> & ⋯ & <dbl> & <dbl> & <dbl> & <dbl> & <dbl> & <dbl> & <dbl> & <chr> & <chr> & <chr>\\\\\n",
       "\\hline\n",
       "\t vancouver & 2020-12-31 00:00:00 & 5.9 & 3.0 & 5.3 & 95.97 & 1.376 & 100 & rain & 0 & ⋯ & 1005.7 &  84.6 & 13 & 0 & NA & 0 & NA & Rain, Partially cloudy & rain & 71608099999,CWWA,71211099999,71784099999,71892099999,71042099999\\\\\n",
       "\t vancouver & 2020-12-31 01:00:00 & 5.7 & 2.9 & 5.0 & 95.13 & 0.191 & 100 & rain & 0 & ⋯ & 1006.3 & 100.0 & 12 & 0 & NA & 0 & NA & Rain, Overcast         & rain & 71608099999,CWWA,71211099999,71784099999,71892099999,71042099999\\\\\n",
       "\t vancouver & 2020-12-31 02:00:00 & 5.8 & 3.5 & 4.9 & 93.72 & 0.606 & 100 & rain & 0 & ⋯ & 1007.4 &  71.2 & 16 & 0 & NA & 0 & NA & Rain, Partially cloudy & rain & 71608099999,CWWA,71211099999,71784099999,71892099999,71042099999\\\\\n",
       "\t vancouver & 2020-12-31 03:00:00 & 5.7 & 3.7 & 4.8 & 94.11 & 0.108 & 100 & rain & 0 & ⋯ & 1008.5 &  80.7 & 24 & 0 & NA & 0 & NA & Rain, Partially cloudy & rain & 71608099999,CWWA,71211099999,71784099999,71892099999,71042099999\\\\\n",
       "\t vancouver & 2020-12-31 04:00:00 & 5.5 & 3.5 & 5.1 & 96.73 & 2.166 & 100 & rain & 0 & ⋯ & 1009.6 & 100.0 &  6 & 0 & NA & 0 & NA & Rain, Overcast         & rain & CWWA,71211099999,71775099999,71784099999,71892099999,71042099999\\\\\n",
       "\\end{tabular}\n"
      ],
      "text/markdown": [
       "\n",
       "A tibble: 5 × 24\n",
       "\n",
       "| name &lt;chr&gt; | datetime &lt;dttm&gt; | temp &lt;dbl&gt; | feelslike &lt;dbl&gt; | dew &lt;dbl&gt; | humidity &lt;dbl&gt; | precip &lt;dbl&gt; | precipprob &lt;dbl&gt; | preciptype &lt;chr&gt; | snow &lt;dbl&gt; | ⋯ ⋯ | sealevelpressure &lt;dbl&gt; | cloudcover &lt;dbl&gt; | visibility &lt;dbl&gt; | solarradiation &lt;dbl&gt; | solarenergy &lt;dbl&gt; | uvindex &lt;dbl&gt; | severerisk &lt;dbl&gt; | conditions &lt;chr&gt; | icon &lt;chr&gt; | stations &lt;chr&gt; |\n",
       "|---|---|---|---|---|---|---|---|---|---|---|---|---|---|---|---|---|---|---|---|---|\n",
       "| vancouver | 2020-12-31 00:00:00 | 5.9 | 3.0 | 5.3 | 95.97 | 1.376 | 100 | rain | 0 | ⋯ | 1005.7 |  84.6 | 13 | 0 | NA | 0 | NA | Rain, Partially cloudy | rain | 71608099999,CWWA,71211099999,71784099999,71892099999,71042099999 |\n",
       "| vancouver | 2020-12-31 01:00:00 | 5.7 | 2.9 | 5.0 | 95.13 | 0.191 | 100 | rain | 0 | ⋯ | 1006.3 | 100.0 | 12 | 0 | NA | 0 | NA | Rain, Overcast         | rain | 71608099999,CWWA,71211099999,71784099999,71892099999,71042099999 |\n",
       "| vancouver | 2020-12-31 02:00:00 | 5.8 | 3.5 | 4.9 | 93.72 | 0.606 | 100 | rain | 0 | ⋯ | 1007.4 |  71.2 | 16 | 0 | NA | 0 | NA | Rain, Partially cloudy | rain | 71608099999,CWWA,71211099999,71784099999,71892099999,71042099999 |\n",
       "| vancouver | 2020-12-31 03:00:00 | 5.7 | 3.7 | 4.8 | 94.11 | 0.108 | 100 | rain | 0 | ⋯ | 1008.5 |  80.7 | 24 | 0 | NA | 0 | NA | Rain, Partially cloudy | rain | 71608099999,CWWA,71211099999,71784099999,71892099999,71042099999 |\n",
       "| vancouver | 2020-12-31 04:00:00 | 5.5 | 3.5 | 5.1 | 96.73 | 2.166 | 100 | rain | 0 | ⋯ | 1009.6 | 100.0 |  6 | 0 | NA | 0 | NA | Rain, Overcast         | rain | CWWA,71211099999,71775099999,71784099999,71892099999,71042099999 |\n",
       "\n"
      ],
      "text/plain": [
       "  name      datetime            temp feelslike dew humidity precip precipprob\n",
       "1 vancouver 2020-12-31 00:00:00 5.9  3.0       5.3 95.97    1.376  100       \n",
       "2 vancouver 2020-12-31 01:00:00 5.7  2.9       5.0 95.13    0.191  100       \n",
       "3 vancouver 2020-12-31 02:00:00 5.8  3.5       4.9 93.72    0.606  100       \n",
       "4 vancouver 2020-12-31 03:00:00 5.7  3.7       4.8 94.11    0.108  100       \n",
       "5 vancouver 2020-12-31 04:00:00 5.5  3.5       5.1 96.73    2.166  100       \n",
       "  preciptype snow ⋯ sealevelpressure cloudcover visibility solarradiation\n",
       "1 rain       0    ⋯ 1005.7            84.6      13         0             \n",
       "2 rain       0    ⋯ 1006.3           100.0      12         0             \n",
       "3 rain       0    ⋯ 1007.4            71.2      16         0             \n",
       "4 rain       0    ⋯ 1008.5            80.7      24         0             \n",
       "5 rain       0    ⋯ 1009.6           100.0       6         0             \n",
       "  solarenergy uvindex severerisk conditions             icon\n",
       "1 NA          0       NA         Rain, Partially cloudy rain\n",
       "2 NA          0       NA         Rain, Overcast         rain\n",
       "3 NA          0       NA         Rain, Partially cloudy rain\n",
       "4 NA          0       NA         Rain, Partially cloudy rain\n",
       "5 NA          0       NA         Rain, Overcast         rain\n",
       "  stations                                                        \n",
       "1 71608099999,CWWA,71211099999,71784099999,71892099999,71042099999\n",
       "2 71608099999,CWWA,71211099999,71784099999,71892099999,71042099999\n",
       "3 71608099999,CWWA,71211099999,71784099999,71892099999,71042099999\n",
       "4 71608099999,CWWA,71211099999,71784099999,71892099999,71042099999\n",
       "5 CWWA,71211099999,71775099999,71784099999,71892099999,71042099999"
      ]
     },
     "metadata": {},
     "output_type": "display_data"
    }
   ],
   "source": [
    "weather_data <- read_csv(\"https://raw.githubusercontent.com/DaffyDiamond/DSCI-100-Group-30/main/data/vancouver_hourly.csv\")\n",
    "head(weather_data, 5)"
   ]
  },
  {
   "cell_type": "markdown",
   "id": "d2c15be3-775c-4261-a05f-99996e928ee8",
   "metadata": {},
   "source": [
    "Next we clean the data by removing columns and rows that are unnecesarry to our project"
   ]
  },
  {
   "cell_type": "code",
   "execution_count": 6,
   "id": "808d1d5d-1d7f-44f9-a3c0-ff1f5b879ec1",
   "metadata": {},
   "outputs": [
    {
     "data": {
      "text/html": [
       "<table class=\"dataframe\">\n",
       "<caption>A tibble: 5 × 8</caption>\n",
       "<thead>\n",
       "\t<tr><th scope=col>datetime</th><th scope=col>temp</th><th scope=col>feelslike</th><th scope=col>humidity</th><th scope=col>sealevelpressure</th><th scope=col>windspeed</th><th scope=col>cloudcover</th><th scope=col>weather</th></tr>\n",
       "\t<tr><th scope=col>&lt;dttm&gt;</th><th scope=col>&lt;dbl&gt;</th><th scope=col>&lt;dbl&gt;</th><th scope=col>&lt;dbl&gt;</th><th scope=col>&lt;dbl&gt;</th><th scope=col>&lt;dbl&gt;</th><th scope=col>&lt;dbl&gt;</th><th scope=col>&lt;chr&gt;</th></tr>\n",
       "</thead>\n",
       "<tbody>\n",
       "\t<tr><td>2020-12-31 00:00:00</td><td>5.9</td><td>3.0</td><td>95.97</td><td>1005.7</td><td>14.3</td><td> 84.6</td><td>rain</td></tr>\n",
       "\t<tr><td>2020-12-31 01:00:00</td><td>5.7</td><td>2.9</td><td>95.13</td><td>1006.3</td><td>13.4</td><td>100.0</td><td>rain</td></tr>\n",
       "\t<tr><td>2020-12-31 02:00:00</td><td>5.8</td><td>3.5</td><td>93.72</td><td>1007.4</td><td>10.7</td><td> 71.2</td><td>rain</td></tr>\n",
       "\t<tr><td>2020-12-31 03:00:00</td><td>5.7</td><td>3.7</td><td>94.11</td><td>1008.5</td><td> 9.3</td><td> 80.7</td><td>rain</td></tr>\n",
       "\t<tr><td>2020-12-31 04:00:00</td><td>5.5</td><td>3.5</td><td>96.73</td><td>1009.6</td><td> 9.2</td><td>100.0</td><td>rain</td></tr>\n",
       "</tbody>\n",
       "</table>\n"
      ],
      "text/latex": [
       "A tibble: 5 × 8\n",
       "\\begin{tabular}{llllllll}\n",
       " datetime & temp & feelslike & humidity & sealevelpressure & windspeed & cloudcover & weather\\\\\n",
       " <dttm> & <dbl> & <dbl> & <dbl> & <dbl> & <dbl> & <dbl> & <chr>\\\\\n",
       "\\hline\n",
       "\t 2020-12-31 00:00:00 & 5.9 & 3.0 & 95.97 & 1005.7 & 14.3 &  84.6 & rain\\\\\n",
       "\t 2020-12-31 01:00:00 & 5.7 & 2.9 & 95.13 & 1006.3 & 13.4 & 100.0 & rain\\\\\n",
       "\t 2020-12-31 02:00:00 & 5.8 & 3.5 & 93.72 & 1007.4 & 10.7 &  71.2 & rain\\\\\n",
       "\t 2020-12-31 03:00:00 & 5.7 & 3.7 & 94.11 & 1008.5 &  9.3 &  80.7 & rain\\\\\n",
       "\t 2020-12-31 04:00:00 & 5.5 & 3.5 & 96.73 & 1009.6 &  9.2 & 100.0 & rain\\\\\n",
       "\\end{tabular}\n"
      ],
      "text/markdown": [
       "\n",
       "A tibble: 5 × 8\n",
       "\n",
       "| datetime &lt;dttm&gt; | temp &lt;dbl&gt; | feelslike &lt;dbl&gt; | humidity &lt;dbl&gt; | sealevelpressure &lt;dbl&gt; | windspeed &lt;dbl&gt; | cloudcover &lt;dbl&gt; | weather &lt;chr&gt; |\n",
       "|---|---|---|---|---|---|---|---|\n",
       "| 2020-12-31 00:00:00 | 5.9 | 3.0 | 95.97 | 1005.7 | 14.3 |  84.6 | rain |\n",
       "| 2020-12-31 01:00:00 | 5.7 | 2.9 | 95.13 | 1006.3 | 13.4 | 100.0 | rain |\n",
       "| 2020-12-31 02:00:00 | 5.8 | 3.5 | 93.72 | 1007.4 | 10.7 |  71.2 | rain |\n",
       "| 2020-12-31 03:00:00 | 5.7 | 3.7 | 94.11 | 1008.5 |  9.3 |  80.7 | rain |\n",
       "| 2020-12-31 04:00:00 | 5.5 | 3.5 | 96.73 | 1009.6 |  9.2 | 100.0 | rain |\n",
       "\n"
      ],
      "text/plain": [
       "  datetime            temp feelslike humidity sealevelpressure windspeed\n",
       "1 2020-12-31 00:00:00 5.9  3.0       95.97    1005.7           14.3     \n",
       "2 2020-12-31 01:00:00 5.7  2.9       95.13    1006.3           13.4     \n",
       "3 2020-12-31 02:00:00 5.8  3.5       93.72    1007.4           10.7     \n",
       "4 2020-12-31 03:00:00 5.7  3.7       94.11    1008.5            9.3     \n",
       "5 2020-12-31 04:00:00 5.5  3.5       96.73    1009.6            9.2     \n",
       "  cloudcover weather\n",
       "1  84.6      rain   \n",
       "2 100.0      rain   \n",
       "3  71.2      rain   \n",
       "4  80.7      rain   \n",
       "5 100.0      rain   "
      ]
     },
     "metadata": {},
     "output_type": "display_data"
    }
   ],
   "source": [
    "# selected out variables that are irrelivant to our predictions\n",
    "weather_cleaned <- weather_data |>\n",
    "    select(datetime, temp, feelslike, humidity, sealevelpressure, windspeed, cloudcover, icon) |>\n",
    "    rename(weather = icon) |>\n",
    "# wind has been filtered out due to being statistically insignificant\n",
    "    filter(!(weather == \"wind\"))\n",
    "\n",
    "head(weather_cleaned, 5)"
   ]
  },
  {
   "cell_type": "markdown",
   "id": "0d80717f-dfb9-40d0-8d08-b0f75853115f",
   "metadata": {},
   "source": [
    "We are now ready to split the data into training and testing to prepare for classification, a seed is used so results can be replicated."
   ]
  },
  {
   "cell_type": "code",
   "execution_count": 9,
   "id": "23338990-a273-4a73-869e-901f8be8b466",
   "metadata": {},
   "outputs": [],
   "source": [
    "set.seed(1234)\n",
    "\n",
    "weather_split <- initial_split(weather_cleaned, prop = 0.75, strata = weather)\n",
    "weather_training <- training(weather_split)\n",
    "weather_testing <- testing(weather_split)"
   ]
  },
  {
   "cell_type": "markdown",
   "id": "2ce9c7fa-7024-4e0d-a786-5194431e84bd",
   "metadata": {},
   "source": [
    "We will now take a look at the preportions of our data"
   ]
  },
  {
   "cell_type": "code",
   "execution_count": 8,
   "id": "c627e4d7-7e99-4486-a884-8f2d4246ade3",
   "metadata": {},
   "outputs": [
    {
     "data": {
      "text/html": [
       "<table class=\"dataframe\">\n",
       "<caption>A tibble: 7 × 2</caption>\n",
       "<thead>\n",
       "\t<tr><th scope=col>weather</th><th scope=col>n()</th></tr>\n",
       "\t<tr><th scope=col>&lt;chr&gt;</th><th scope=col>&lt;int&gt;</th></tr>\n",
       "</thead>\n",
       "<tbody>\n",
       "\t<tr><td>clear-day          </td><td> 908</td></tr>\n",
       "\t<tr><td>clear-night        </td><td>1190</td></tr>\n",
       "\t<tr><td>cloudy             </td><td>2834</td></tr>\n",
       "\t<tr><td>partly-cloudy-day  </td><td>2890</td></tr>\n",
       "\t<tr><td>partly-cloudy-night</td><td>2218</td></tr>\n",
       "\t<tr><td>rain               </td><td>2879</td></tr>\n",
       "\t<tr><td>snow               </td><td> 233</td></tr>\n",
       "</tbody>\n",
       "</table>\n"
      ],
      "text/latex": [
       "A tibble: 7 × 2\n",
       "\\begin{tabular}{ll}\n",
       " weather & n()\\\\\n",
       " <chr> & <int>\\\\\n",
       "\\hline\n",
       "\t clear-day           &  908\\\\\n",
       "\t clear-night         & 1190\\\\\n",
       "\t cloudy              & 2834\\\\\n",
       "\t partly-cloudy-day   & 2890\\\\\n",
       "\t partly-cloudy-night & 2218\\\\\n",
       "\t rain                & 2879\\\\\n",
       "\t snow                &  233\\\\\n",
       "\\end{tabular}\n"
      ],
      "text/markdown": [
       "\n",
       "A tibble: 7 × 2\n",
       "\n",
       "| weather &lt;chr&gt; | n() &lt;int&gt; |\n",
       "|---|---|\n",
       "| clear-day           |  908 |\n",
       "| clear-night         | 1190 |\n",
       "| cloudy              | 2834 |\n",
       "| partly-cloudy-day   | 2890 |\n",
       "| partly-cloudy-night | 2218 |\n",
       "| rain                | 2879 |\n",
       "| snow                |  233 |\n",
       "\n"
      ],
      "text/plain": [
       "  weather             n() \n",
       "1 clear-day            908\n",
       "2 clear-night         1190\n",
       "3 cloudy              2834\n",
       "4 partly-cloudy-day   2890\n",
       "5 partly-cloudy-night 2218\n",
       "6 rain                2879\n",
       "7 snow                 233"
      ]
     },
     "metadata": {},
     "output_type": "display_data"
    }
   ],
   "source": [
    "weather_amount <- weather_training |>\n",
    "    group_by(weather) |>\n",
    "    summarize(n())\n",
    "weather_amount"
   ]
  },
  {
   "cell_type": "markdown",
   "id": "ed78ce59-904c-49c5-9bfe-a5742b67b7ca",
   "metadata": {},
   "source": [
    "the proportions of the data appears to be quite unblanced, this means we will have to scale and balance the data in the recipe"
   ]
  },
  {
   "cell_type": "code",
   "execution_count": 10,
   "id": "5b860972-5b17-442e-b8b8-c9a7bbac0043",
   "metadata": {},
   "outputs": [],
   "source": [
    "weather_recipe <- recipe( weather ~ temp + feelslike + humidity + sealevelpressure + windspeed + cloudcover, data = weather_training) |>\n",
    "  step_scale(all_predictors()) |>\n",
    "  step_center(all_predictors()) "
   ]
  },
  {
   "cell_type": "markdown",
   "id": "d48dff71-1462-474b-b6d9-51e8dfa17299",
   "metadata": {},
   "source": [
    "before we start the classification, we must first design the specification, ktune must be used to find the optimal k value."
   ]
  },
  {
   "cell_type": "code",
   "execution_count": 11,
   "id": "c6727d73-ced9-496b-94aa-72a85ccd2923",
   "metadata": {},
   "outputs": [
    {
     "data": {
      "text/plain": [
       "K-Nearest Neighbor Model Specification (classification)\n",
       "\n",
       "Main Arguments:\n",
       "  neighbors = tune()\n",
       "  weight_func = rectangular\n",
       "\n",
       "Computational engine: kknn \n"
      ]
     },
     "metadata": {},
     "output_type": "display_data"
    }
   ],
   "source": [
    "knn_tune <- nearest_neighbor(weight_func = \"rectangular\", neighbors = tune()) |>\n",
    "      set_engine(\"kknn\") |>\n",
    "      set_mode(\"classification\")\n",
    "knn_tune"
   ]
  },
  {
   "cell_type": "markdown",
   "id": "fc32df9a-54c7-4c5d-bb6c-42caf5d78d85",
   "metadata": {},
   "source": [
    "To find the optimal k value, we will be using 10 fold cross validation to ensure greater accuracy "
   ]
  },
  {
   "cell_type": "code",
   "execution_count": 12,
   "id": "8a4a666b-aadd-4798-9806-9495230e1c1e",
   "metadata": {},
   "outputs": [],
   "source": [
    "weather_vfold <- vfold_cv(weather_training, v = 5, strata = weather)"
   ]
  },
  {
   "cell_type": "markdown",
   "id": "5496f1b3-eaf8-45da-936e-e0850ec5d65b",
   "metadata": {},
   "source": [
    "we will now create the resample workflow to help us find the ideal k value"
   ]
  },
  {
   "cell_type": "code",
   "execution_count": 13,
   "id": "bd7a0fe6-aebf-4e1c-89f8-03387d9fdd3a",
   "metadata": {},
   "outputs": [
    {
     "name": "stderr",
     "output_type": "stream",
     "text": [
      "\u001b[31mx\u001b[39m \u001b[31mFold3: preprocessor 1/1, model 1/1 (predictions):\n",
      "  \u001b[1m\u001b[33mError\u001b[31m in \u001b[1m\u001b[1m`mutate()`:\u001b[22m\n",
      "  \u001b[1m\u001b[22m\u001b[33m!\u001b[31m Problem while computing `.row = orig_rows`.\n",
      "  \u001b[31m✖\u001b[31m `.row` must be size 2629 or 1, not 2630.\u001b[39m\n",
      "\n"
     ]
    },
    {
     "data": {
      "text/html": [
       "<table class=\"dataframe\">\n",
       "<caption>A tibble: 28 × 7</caption>\n",
       "<thead>\n",
       "\t<tr><th scope=col>neighbors</th><th scope=col>.metric</th><th scope=col>.estimator</th><th scope=col>mean</th><th scope=col>n</th><th scope=col>std_err</th><th scope=col>.config</th></tr>\n",
       "\t<tr><th scope=col>&lt;int&gt;</th><th scope=col>&lt;chr&gt;</th><th scope=col>&lt;chr&gt;</th><th scope=col>&lt;dbl&gt;</th><th scope=col>&lt;int&gt;</th><th scope=col>&lt;dbl&gt;</th><th scope=col>&lt;chr&gt;</th></tr>\n",
       "</thead>\n",
       "<tbody>\n",
       "\t<tr><td> 1</td><td>accuracy</td><td>multiclass</td><td>0.6510176</td><td>4</td><td>0.0039347685</td><td>Preprocessor1_Model01</td></tr>\n",
       "\t<tr><td> 1</td><td>roc_auc </td><td>hand_till </td><td>0.8044396</td><td>4</td><td>0.0037700302</td><td>Preprocessor1_Model01</td></tr>\n",
       "\t<tr><td> 2</td><td>accuracy</td><td>multiclass</td><td>0.6510176</td><td>4</td><td>0.0039347685</td><td>Preprocessor1_Model02</td></tr>\n",
       "\t<tr><td> 2</td><td>roc_auc </td><td>hand_till </td><td>0.8686809</td><td>4</td><td>0.0038951305</td><td>Preprocessor1_Model02</td></tr>\n",
       "\t<tr><td> 3</td><td>accuracy</td><td>multiclass</td><td>0.6737307</td><td>4</td><td>0.0033153100</td><td>Preprocessor1_Model03</td></tr>\n",
       "\t<tr><td> 3</td><td>roc_auc </td><td>hand_till </td><td>0.8926436</td><td>4</td><td>0.0027771057</td><td>Preprocessor1_Model03</td></tr>\n",
       "\t<tr><td> 4</td><td>accuracy</td><td>multiclass</td><td>0.6763924</td><td>4</td><td>0.0034145417</td><td>Preprocessor1_Model04</td></tr>\n",
       "\t<tr><td> 4</td><td>roc_auc </td><td>hand_till </td><td>0.9068897</td><td>4</td><td>0.0036739526</td><td>Preprocessor1_Model04</td></tr>\n",
       "\t<tr><td> 5</td><td>accuracy</td><td>multiclass</td><td>0.6857070</td><td>4</td><td>0.0021744050</td><td>Preprocessor1_Model05</td></tr>\n",
       "\t<tr><td> 5</td><td>roc_auc </td><td>hand_till </td><td>0.9154632</td><td>4</td><td>0.0032325730</td><td>Preprocessor1_Model05</td></tr>\n",
       "\t<tr><td> 6</td><td>accuracy</td><td>multiclass</td><td>0.6860878</td><td>4</td><td>0.0033453477</td><td>Preprocessor1_Model06</td></tr>\n",
       "\t<tr><td> 6</td><td>roc_auc </td><td>hand_till </td><td>0.9213939</td><td>4</td><td>0.0031757811</td><td>Preprocessor1_Model06</td></tr>\n",
       "\t<tr><td> 7</td><td>accuracy</td><td>multiclass</td><td>0.6861818</td><td>4</td><td>0.0019939543</td><td>Preprocessor1_Model07</td></tr>\n",
       "\t<tr><td> 7</td><td>roc_auc </td><td>hand_till </td><td>0.9265342</td><td>4</td><td>0.0026870345</td><td>Preprocessor1_Model07</td></tr>\n",
       "\t<tr><td> 8</td><td>accuracy</td><td>multiclass</td><td>0.6880836</td><td>4</td><td>0.0027131800</td><td>Preprocessor1_Model08</td></tr>\n",
       "\t<tr><td> 8</td><td>roc_auc </td><td>hand_till </td><td>0.9304528</td><td>4</td><td>0.0026605146</td><td>Preprocessor1_Model08</td></tr>\n",
       "\t<tr><td> 9</td><td>accuracy</td><td>multiclass</td><td>0.6914095</td><td>4</td><td>0.0026038969</td><td>Preprocessor1_Model09</td></tr>\n",
       "\t<tr><td> 9</td><td>roc_auc </td><td>hand_till </td><td>0.9335355</td><td>4</td><td>0.0027438438</td><td>Preprocessor1_Model09</td></tr>\n",
       "\t<tr><td>10</td><td>accuracy</td><td>multiclass</td><td>0.6923609</td><td>4</td><td>0.0033173953</td><td>Preprocessor1_Model10</td></tr>\n",
       "\t<tr><td>10</td><td>roc_auc </td><td>hand_till </td><td>0.9348868</td><td>4</td><td>0.0024784040</td><td>Preprocessor1_Model10</td></tr>\n",
       "\t<tr><td>11</td><td>accuracy</td><td>multiclass</td><td>0.6951169</td><td>4</td><td>0.0044253810</td><td>Preprocessor1_Model11</td></tr>\n",
       "\t<tr><td>11</td><td>roc_auc </td><td>hand_till </td><td>0.9368357</td><td>4</td><td>0.0019820404</td><td>Preprocessor1_Model11</td></tr>\n",
       "\t<tr><td>12</td><td>accuracy</td><td>multiclass</td><td>0.6932157</td><td>4</td><td>0.0033979123</td><td>Preprocessor1_Model12</td></tr>\n",
       "\t<tr><td>12</td><td>roc_auc </td><td>hand_till </td><td>0.9380256</td><td>4</td><td>0.0015290361</td><td>Preprocessor1_Model12</td></tr>\n",
       "\t<tr><td>13</td><td>accuracy</td><td>multiclass</td><td>0.6938819</td><td>4</td><td>0.0044703386</td><td>Preprocessor1_Model13</td></tr>\n",
       "\t<tr><td>13</td><td>roc_auc </td><td>hand_till </td><td>0.9386589</td><td>4</td><td>0.0010711766</td><td>Preprocessor1_Model13</td></tr>\n",
       "\t<tr><td>14</td><td>accuracy</td><td>multiclass</td><td>0.6936927</td><td>4</td><td>0.0058606881</td><td>Preprocessor1_Model14</td></tr>\n",
       "\t<tr><td>14</td><td>roc_auc </td><td>hand_till </td><td>0.9395941</td><td>4</td><td>0.0009611266</td><td>Preprocessor1_Model14</td></tr>\n",
       "</tbody>\n",
       "</table>\n"
      ],
      "text/latex": [
       "A tibble: 28 × 7\n",
       "\\begin{tabular}{lllllll}\n",
       " neighbors & .metric & .estimator & mean & n & std\\_err & .config\\\\\n",
       " <int> & <chr> & <chr> & <dbl> & <int> & <dbl> & <chr>\\\\\n",
       "\\hline\n",
       "\t  1 & accuracy & multiclass & 0.6510176 & 4 & 0.0039347685 & Preprocessor1\\_Model01\\\\\n",
       "\t  1 & roc\\_auc  & hand\\_till  & 0.8044396 & 4 & 0.0037700302 & Preprocessor1\\_Model01\\\\\n",
       "\t  2 & accuracy & multiclass & 0.6510176 & 4 & 0.0039347685 & Preprocessor1\\_Model02\\\\\n",
       "\t  2 & roc\\_auc  & hand\\_till  & 0.8686809 & 4 & 0.0038951305 & Preprocessor1\\_Model02\\\\\n",
       "\t  3 & accuracy & multiclass & 0.6737307 & 4 & 0.0033153100 & Preprocessor1\\_Model03\\\\\n",
       "\t  3 & roc\\_auc  & hand\\_till  & 0.8926436 & 4 & 0.0027771057 & Preprocessor1\\_Model03\\\\\n",
       "\t  4 & accuracy & multiclass & 0.6763924 & 4 & 0.0034145417 & Preprocessor1\\_Model04\\\\\n",
       "\t  4 & roc\\_auc  & hand\\_till  & 0.9068897 & 4 & 0.0036739526 & Preprocessor1\\_Model04\\\\\n",
       "\t  5 & accuracy & multiclass & 0.6857070 & 4 & 0.0021744050 & Preprocessor1\\_Model05\\\\\n",
       "\t  5 & roc\\_auc  & hand\\_till  & 0.9154632 & 4 & 0.0032325730 & Preprocessor1\\_Model05\\\\\n",
       "\t  6 & accuracy & multiclass & 0.6860878 & 4 & 0.0033453477 & Preprocessor1\\_Model06\\\\\n",
       "\t  6 & roc\\_auc  & hand\\_till  & 0.9213939 & 4 & 0.0031757811 & Preprocessor1\\_Model06\\\\\n",
       "\t  7 & accuracy & multiclass & 0.6861818 & 4 & 0.0019939543 & Preprocessor1\\_Model07\\\\\n",
       "\t  7 & roc\\_auc  & hand\\_till  & 0.9265342 & 4 & 0.0026870345 & Preprocessor1\\_Model07\\\\\n",
       "\t  8 & accuracy & multiclass & 0.6880836 & 4 & 0.0027131800 & Preprocessor1\\_Model08\\\\\n",
       "\t  8 & roc\\_auc  & hand\\_till  & 0.9304528 & 4 & 0.0026605146 & Preprocessor1\\_Model08\\\\\n",
       "\t  9 & accuracy & multiclass & 0.6914095 & 4 & 0.0026038969 & Preprocessor1\\_Model09\\\\\n",
       "\t  9 & roc\\_auc  & hand\\_till  & 0.9335355 & 4 & 0.0027438438 & Preprocessor1\\_Model09\\\\\n",
       "\t 10 & accuracy & multiclass & 0.6923609 & 4 & 0.0033173953 & Preprocessor1\\_Model10\\\\\n",
       "\t 10 & roc\\_auc  & hand\\_till  & 0.9348868 & 4 & 0.0024784040 & Preprocessor1\\_Model10\\\\\n",
       "\t 11 & accuracy & multiclass & 0.6951169 & 4 & 0.0044253810 & Preprocessor1\\_Model11\\\\\n",
       "\t 11 & roc\\_auc  & hand\\_till  & 0.9368357 & 4 & 0.0019820404 & Preprocessor1\\_Model11\\\\\n",
       "\t 12 & accuracy & multiclass & 0.6932157 & 4 & 0.0033979123 & Preprocessor1\\_Model12\\\\\n",
       "\t 12 & roc\\_auc  & hand\\_till  & 0.9380256 & 4 & 0.0015290361 & Preprocessor1\\_Model12\\\\\n",
       "\t 13 & accuracy & multiclass & 0.6938819 & 4 & 0.0044703386 & Preprocessor1\\_Model13\\\\\n",
       "\t 13 & roc\\_auc  & hand\\_till  & 0.9386589 & 4 & 0.0010711766 & Preprocessor1\\_Model13\\\\\n",
       "\t 14 & accuracy & multiclass & 0.6936927 & 4 & 0.0058606881 & Preprocessor1\\_Model14\\\\\n",
       "\t 14 & roc\\_auc  & hand\\_till  & 0.9395941 & 4 & 0.0009611266 & Preprocessor1\\_Model14\\\\\n",
       "\\end{tabular}\n"
      ],
      "text/markdown": [
       "\n",
       "A tibble: 28 × 7\n",
       "\n",
       "| neighbors &lt;int&gt; | .metric &lt;chr&gt; | .estimator &lt;chr&gt; | mean &lt;dbl&gt; | n &lt;int&gt; | std_err &lt;dbl&gt; | .config &lt;chr&gt; |\n",
       "|---|---|---|---|---|---|---|\n",
       "|  1 | accuracy | multiclass | 0.6510176 | 4 | 0.0039347685 | Preprocessor1_Model01 |\n",
       "|  1 | roc_auc  | hand_till  | 0.8044396 | 4 | 0.0037700302 | Preprocessor1_Model01 |\n",
       "|  2 | accuracy | multiclass | 0.6510176 | 4 | 0.0039347685 | Preprocessor1_Model02 |\n",
       "|  2 | roc_auc  | hand_till  | 0.8686809 | 4 | 0.0038951305 | Preprocessor1_Model02 |\n",
       "|  3 | accuracy | multiclass | 0.6737307 | 4 | 0.0033153100 | Preprocessor1_Model03 |\n",
       "|  3 | roc_auc  | hand_till  | 0.8926436 | 4 | 0.0027771057 | Preprocessor1_Model03 |\n",
       "|  4 | accuracy | multiclass | 0.6763924 | 4 | 0.0034145417 | Preprocessor1_Model04 |\n",
       "|  4 | roc_auc  | hand_till  | 0.9068897 | 4 | 0.0036739526 | Preprocessor1_Model04 |\n",
       "|  5 | accuracy | multiclass | 0.6857070 | 4 | 0.0021744050 | Preprocessor1_Model05 |\n",
       "|  5 | roc_auc  | hand_till  | 0.9154632 | 4 | 0.0032325730 | Preprocessor1_Model05 |\n",
       "|  6 | accuracy | multiclass | 0.6860878 | 4 | 0.0033453477 | Preprocessor1_Model06 |\n",
       "|  6 | roc_auc  | hand_till  | 0.9213939 | 4 | 0.0031757811 | Preprocessor1_Model06 |\n",
       "|  7 | accuracy | multiclass | 0.6861818 | 4 | 0.0019939543 | Preprocessor1_Model07 |\n",
       "|  7 | roc_auc  | hand_till  | 0.9265342 | 4 | 0.0026870345 | Preprocessor1_Model07 |\n",
       "|  8 | accuracy | multiclass | 0.6880836 | 4 | 0.0027131800 | Preprocessor1_Model08 |\n",
       "|  8 | roc_auc  | hand_till  | 0.9304528 | 4 | 0.0026605146 | Preprocessor1_Model08 |\n",
       "|  9 | accuracy | multiclass | 0.6914095 | 4 | 0.0026038969 | Preprocessor1_Model09 |\n",
       "|  9 | roc_auc  | hand_till  | 0.9335355 | 4 | 0.0027438438 | Preprocessor1_Model09 |\n",
       "| 10 | accuracy | multiclass | 0.6923609 | 4 | 0.0033173953 | Preprocessor1_Model10 |\n",
       "| 10 | roc_auc  | hand_till  | 0.9348868 | 4 | 0.0024784040 | Preprocessor1_Model10 |\n",
       "| 11 | accuracy | multiclass | 0.6951169 | 4 | 0.0044253810 | Preprocessor1_Model11 |\n",
       "| 11 | roc_auc  | hand_till  | 0.9368357 | 4 | 0.0019820404 | Preprocessor1_Model11 |\n",
       "| 12 | accuracy | multiclass | 0.6932157 | 4 | 0.0033979123 | Preprocessor1_Model12 |\n",
       "| 12 | roc_auc  | hand_till  | 0.9380256 | 4 | 0.0015290361 | Preprocessor1_Model12 |\n",
       "| 13 | accuracy | multiclass | 0.6938819 | 4 | 0.0044703386 | Preprocessor1_Model13 |\n",
       "| 13 | roc_auc  | hand_till  | 0.9386589 | 4 | 0.0010711766 | Preprocessor1_Model13 |\n",
       "| 14 | accuracy | multiclass | 0.6936927 | 4 | 0.0058606881 | Preprocessor1_Model14 |\n",
       "| 14 | roc_auc  | hand_till  | 0.9395941 | 4 | 0.0009611266 | Preprocessor1_Model14 |\n",
       "\n"
      ],
      "text/plain": [
       "   neighbors .metric  .estimator mean      n std_err      .config              \n",
       "1   1        accuracy multiclass 0.6510176 4 0.0039347685 Preprocessor1_Model01\n",
       "2   1        roc_auc  hand_till  0.8044396 4 0.0037700302 Preprocessor1_Model01\n",
       "3   2        accuracy multiclass 0.6510176 4 0.0039347685 Preprocessor1_Model02\n",
       "4   2        roc_auc  hand_till  0.8686809 4 0.0038951305 Preprocessor1_Model02\n",
       "5   3        accuracy multiclass 0.6737307 4 0.0033153100 Preprocessor1_Model03\n",
       "6   3        roc_auc  hand_till  0.8926436 4 0.0027771057 Preprocessor1_Model03\n",
       "7   4        accuracy multiclass 0.6763924 4 0.0034145417 Preprocessor1_Model04\n",
       "8   4        roc_auc  hand_till  0.9068897 4 0.0036739526 Preprocessor1_Model04\n",
       "9   5        accuracy multiclass 0.6857070 4 0.0021744050 Preprocessor1_Model05\n",
       "10  5        roc_auc  hand_till  0.9154632 4 0.0032325730 Preprocessor1_Model05\n",
       "11  6        accuracy multiclass 0.6860878 4 0.0033453477 Preprocessor1_Model06\n",
       "12  6        roc_auc  hand_till  0.9213939 4 0.0031757811 Preprocessor1_Model06\n",
       "13  7        accuracy multiclass 0.6861818 4 0.0019939543 Preprocessor1_Model07\n",
       "14  7        roc_auc  hand_till  0.9265342 4 0.0026870345 Preprocessor1_Model07\n",
       "15  8        accuracy multiclass 0.6880836 4 0.0027131800 Preprocessor1_Model08\n",
       "16  8        roc_auc  hand_till  0.9304528 4 0.0026605146 Preprocessor1_Model08\n",
       "17  9        accuracy multiclass 0.6914095 4 0.0026038969 Preprocessor1_Model09\n",
       "18  9        roc_auc  hand_till  0.9335355 4 0.0027438438 Preprocessor1_Model09\n",
       "19 10        accuracy multiclass 0.6923609 4 0.0033173953 Preprocessor1_Model10\n",
       "20 10        roc_auc  hand_till  0.9348868 4 0.0024784040 Preprocessor1_Model10\n",
       "21 11        accuracy multiclass 0.6951169 4 0.0044253810 Preprocessor1_Model11\n",
       "22 11        roc_auc  hand_till  0.9368357 4 0.0019820404 Preprocessor1_Model11\n",
       "23 12        accuracy multiclass 0.6932157 4 0.0033979123 Preprocessor1_Model12\n",
       "24 12        roc_auc  hand_till  0.9380256 4 0.0015290361 Preprocessor1_Model12\n",
       "25 13        accuracy multiclass 0.6938819 4 0.0044703386 Preprocessor1_Model13\n",
       "26 13        roc_auc  hand_till  0.9386589 4 0.0010711766 Preprocessor1_Model13\n",
       "27 14        accuracy multiclass 0.6936927 4 0.0058606881 Preprocessor1_Model14\n",
       "28 14        roc_auc  hand_till  0.9395941 4 0.0009611266 Preprocessor1_Model14"
      ]
     },
     "metadata": {},
     "output_type": "display_data"
    }
   ],
   "source": [
    "set.seed(4321)\n",
    "weather_k_results <- workflow() |>\n",
    "      add_recipe(weather_recipe) |>\n",
    "      add_model(knn_tune) |>\n",
    "      tune_grid(resamples = weather_vfold, grid = 20) |>\n",
    "      collect_metrics()\n",
    "weather_k_results\n"
   ]
  },
  {
   "cell_type": "markdown",
   "id": "2a1327f6-89ef-4ff3-8b0f-d459755e4e44",
   "metadata": {},
   "source": [
    "after collecting the results, we will use a graph to help us visualize the ideal k value"
   ]
  },
  {
   "cell_type": "code",
   "execution_count": 14,
   "id": "22b2f060-7a21-4551-8ee0-af3c4b8a0ed6",
   "metadata": {},
   "outputs": [
    {
     "data": {
      "image/png": "[encoded data removed]",
      "text/plain": [
       "plot without title"
      ]
     },
     "metadata": {
      "image/png": {
       "height": 420,
       "width": 420
      }
     },
     "output_type": "display_data"
    }
   ],
   "source": [
    "accuracies <- weather_k_results|> \n",
    "      filter(.metric == \"accuracy\")\n",
    "\n",
    "accuracy_versus_k <- ggplot(accuracies, aes(x = neighbors, y = mean))+\n",
    "      geom_point() +\n",
    "      geom_line() +\n",
    "      labs(x = \"Neighbors\", y = \"Accuracy Estimate\") +\n",
    "      scale_x_continuous(breaks = seq(0, 14, by = 1)) +  # adjusting the x-axis\n",
    "      scale_y_continuous(limits = c(0.4, 1.0)) # adjusting the y-axis\n",
    "\n",
    "accuracy_versus_k\n",
    "# your code here"
   ]
  },
  {
   "cell_type": "markdown",
   "id": "12d19cc2-bcb6-44c0-9bca-f354af76d5cb",
   "metadata": {},
   "source": [
    "Now we will use this information to find the ideal k value"
   ]
  },
  {
   "cell_type": "code",
   "execution_count": 20,
   "id": "c0b801bd-7bc5-40c3-88e3-3f1d7651ac2b",
   "metadata": {},
   "outputs": [
    {
     "data": {
      "text/html": [
       "11"
      ],
      "text/latex": [
       "11"
      ],
      "text/markdown": [
       "11"
      ],
      "text/plain": [
       "[1] 11"
      ]
     },
     "metadata": {},
     "output_type": "display_data"
    }
   ],
   "source": [
    "kval <- accuracies |>\n",
    "    arrange(desc(mean)) |>\n",
    "    head(1)|>\n",
    "    select(neighbors)|>\n",
    "    pull()\n",
    "    \n",
    "kval"
   ]
  },
  {
   "cell_type": "markdown",
   "id": "3c7abae2-c82b-4a58-80f3-501af453b9ff",
   "metadata": {},
   "source": [
    "now that we have the ideal k value, we can create the proper knn specification for the classification"
   ]
  },
  {
   "cell_type": "code",
   "execution_count": 21,
   "id": "0cd0c2c6-7dfe-4ed6-950a-83d1f7ff21f0",
   "metadata": {},
   "outputs": [],
   "source": [
    "knn_spec <- nearest_neighbor(weight_func = \"rectangular\", neighbors = kval) |>\n",
    "      set_engine(\"kknn\") |>\n",
    "      set_mode(\"classification\")"
   ]
  },
  {
   "cell_type": "markdown",
   "id": "c7bbefa4-6191-413f-8fd5-fa1305f657ee",
   "metadata": {},
   "source": [
    "now the we have the specification, we can start to put the whole thing together"
   ]
  },
  {
   "cell_type": "code",
   "execution_count": 24,
   "id": "801bea9b-bed4-42cd-9c90-0287f433e173",
   "metadata": {},
   "outputs": [
    {
     "data": {
      "text/plain": [
       "══ Workflow [trained] ══════════════════════════════════════════════════════════\n",
       "\u001b[3mPreprocessor:\u001b[23m Recipe\n",
       "\u001b[3mModel:\u001b[23m nearest_neighbor()\n",
       "\n",
       "── Preprocessor ────────────────────────────────────────────────────────────────\n",
       "2 Recipe Steps\n",
       "\n",
       "• step_scale()\n",
       "• step_center()\n",
       "\n",
       "── Model ───────────────────────────────────────────────────────────────────────\n",
       "\n",
       "Call:\n",
       "kknn::train.kknn(formula = ..y ~ ., data = data, ks = min_rows(11L,     data, 5), kernel = ~\"rectangular\")\n",
       "\n",
       "Type of response variable: nominal\n",
       "Minimal misclassification: 0.2999011\n",
       "Best kernel: rectangular\n",
       "Best k: 11"
      ]
     },
     "metadata": {},
     "output_type": "display_data"
    }
   ],
   "source": [
    "set.seed(2222)\n",
    "weather_fit <- workflow() |>\n",
    "      add_recipe(weather_recipe) |>\n",
    "      add_model(knn_spec) |>\n",
    "      fit(data = weather_training)\n",
    "weather_fit"
   ]
  },
  {
   "cell_type": "markdown",
   "id": "2d655f5b-b29d-4a63-8974-d845375724d1",
   "metadata": {},
   "source": [
    "with our workflow ready to go, we can now dothe classification"
   ]
  },
  {
   "cell_type": "code",
   "execution_count": 33,
   "id": "d072d6e0-829b-44b8-90dc-856511b1df7c",
   "metadata": {},
   "outputs": [
    {
     "data": {
      "text/html": [
       "<table class=\"dataframe\">\n",
       "<caption>A tibble: 5 × 9</caption>\n",
       "<thead>\n",
       "\t<tr><th scope=col>.pred_class</th><th scope=col>datetime</th><th scope=col>temp</th><th scope=col>feelslike</th><th scope=col>humidity</th><th scope=col>sealevelpressure</th><th scope=col>windspeed</th><th scope=col>cloudcover</th><th scope=col>weather</th></tr>\n",
       "\t<tr><th scope=col>&lt;fct&gt;</th><th scope=col>&lt;dttm&gt;</th><th scope=col>&lt;dbl&gt;</th><th scope=col>&lt;dbl&gt;</th><th scope=col>&lt;dbl&gt;</th><th scope=col>&lt;dbl&gt;</th><th scope=col>&lt;dbl&gt;</th><th scope=col>&lt;dbl&gt;</th><th scope=col>&lt;fct&gt;</th></tr>\n",
       "</thead>\n",
       "<tbody>\n",
       "\t<tr><td>rain</td><td>2020-12-31 00:00:00</td><td>5.9</td><td>3.0</td><td>95.97</td><td>1005.7</td><td>14.3</td><td> 84.6</td><td>rain  </td></tr>\n",
       "\t<tr><td>rain</td><td>2020-12-31 01:00:00</td><td>5.7</td><td>2.9</td><td>95.13</td><td>1006.3</td><td>13.4</td><td>100.0</td><td>rain  </td></tr>\n",
       "\t<tr><td>rain</td><td>2020-12-31 03:00:00</td><td>5.7</td><td>3.7</td><td>94.11</td><td>1008.5</td><td> 9.3</td><td> 80.7</td><td>rain  </td></tr>\n",
       "\t<tr><td>rain</td><td>2020-12-31 05:00:00</td><td>5.5</td><td>5.5</td><td>95.33</td><td>1011.0</td><td> 3.4</td><td> 92.0</td><td>rain  </td></tr>\n",
       "\t<tr><td>rain</td><td>2020-12-31 07:00:00</td><td>5.0</td><td>5.0</td><td>97.06</td><td>1013.1</td><td> 1.7</td><td>100.0</td><td>cloudy</td></tr>\n",
       "</tbody>\n",
       "</table>\n"
      ],
      "text/latex": [
       "A tibble: 5 × 9\n",
       "\\begin{tabular}{lllllllll}\n",
       " .pred\\_class & datetime & temp & feelslike & humidity & sealevelpressure & windspeed & cloudcover & weather\\\\\n",
       " <fct> & <dttm> & <dbl> & <dbl> & <dbl> & <dbl> & <dbl> & <dbl> & <fct>\\\\\n",
       "\\hline\n",
       "\t rain & 2020-12-31 00:00:00 & 5.9 & 3.0 & 95.97 & 1005.7 & 14.3 &  84.6 & rain  \\\\\n",
       "\t rain & 2020-12-31 01:00:00 & 5.7 & 2.9 & 95.13 & 1006.3 & 13.4 & 100.0 & rain  \\\\\n",
       "\t rain & 2020-12-31 03:00:00 & 5.7 & 3.7 & 94.11 & 1008.5 &  9.3 &  80.7 & rain  \\\\\n",
       "\t rain & 2020-12-31 05:00:00 & 5.5 & 5.5 & 95.33 & 1011.0 &  3.4 &  92.0 & rain  \\\\\n",
       "\t rain & 2020-12-31 07:00:00 & 5.0 & 5.0 & 97.06 & 1013.1 &  1.7 & 100.0 & cloudy\\\\\n",
       "\\end{tabular}\n"
      ],
      "text/markdown": [
       "\n",
       "A tibble: 5 × 9\n",
       "\n",
       "| .pred_class &lt;fct&gt; | datetime &lt;dttm&gt; | temp &lt;dbl&gt; | feelslike &lt;dbl&gt; | humidity &lt;dbl&gt; | sealevelpressure &lt;dbl&gt; | windspeed &lt;dbl&gt; | cloudcover &lt;dbl&gt; | weather &lt;fct&gt; |\n",
       "|---|---|---|---|---|---|---|---|---|\n",
       "| rain | 2020-12-31 00:00:00 | 5.9 | 3.0 | 95.97 | 1005.7 | 14.3 |  84.6 | rain   |\n",
       "| rain | 2020-12-31 01:00:00 | 5.7 | 2.9 | 95.13 | 1006.3 | 13.4 | 100.0 | rain   |\n",
       "| rain | 2020-12-31 03:00:00 | 5.7 | 3.7 | 94.11 | 1008.5 |  9.3 |  80.7 | rain   |\n",
       "| rain | 2020-12-31 05:00:00 | 5.5 | 5.5 | 95.33 | 1011.0 |  3.4 |  92.0 | rain   |\n",
       "| rain | 2020-12-31 07:00:00 | 5.0 | 5.0 | 97.06 | 1013.1 |  1.7 | 100.0 | cloudy |\n",
       "\n"
      ],
      "text/plain": [
       "  .pred_class datetime            temp feelslike humidity sealevelpressure\n",
       "1 rain        2020-12-31 00:00:00 5.9  3.0       95.97    1005.7          \n",
       "2 rain        2020-12-31 01:00:00 5.7  2.9       95.13    1006.3          \n",
       "3 rain        2020-12-31 03:00:00 5.7  3.7       94.11    1008.5          \n",
       "4 rain        2020-12-31 05:00:00 5.5  5.5       95.33    1011.0          \n",
       "5 rain        2020-12-31 07:00:00 5.0  5.0       97.06    1013.1          \n",
       "  windspeed cloudcover weather\n",
       "1 14.3       84.6      rain   \n",
       "2 13.4      100.0      rain   \n",
       "3  9.3       80.7      rain   \n",
       "4  3.4       92.0      rain   \n",
       "5  1.7      100.0      cloudy "
      ]
     },
     "metadata": {},
     "output_type": "display_data"
    }
   ],
   "source": [
    "set.seed(111) # DO NOT REMOVE\n",
    "\n",
    "weather_test_predictions <- predict(weather_fit, weather_testing) |>\n",
    "      bind_cols(weather_testing)|>\n",
    "      mutate(weather = as.factor(weather))\n",
    "head(weather_test_predictions, 5)"
   ]
  },
  {
   "cell_type": "markdown",
   "id": "01570176-584e-45b5-bfe4-238e3c452aca",
   "metadata": {},
   "source": [
    "now that we have a set of prediction for our testing set, we can now use the metric function to asses\n",
    "the accuracy of our classifier"
   ]
  },
  {
   "cell_type": "code",
   "execution_count": 35,
   "id": "8968d08a-0641-4906-814e-dc2bbe74ccf4",
   "metadata": {},
   "outputs": [
    {
     "data": {
      "text/html": [
       "<table class=\"dataframe\">\n",
       "<caption>A tibble: 2 × 3</caption>\n",
       "<thead>\n",
       "\t<tr><th scope=col>.metric</th><th scope=col>.estimator</th><th scope=col>.estimate</th></tr>\n",
       "\t<tr><th scope=col>&lt;chr&gt;</th><th scope=col>&lt;chr&gt;</th><th scope=col>&lt;dbl&gt;</th></tr>\n",
       "</thead>\n",
       "<tbody>\n",
       "\t<tr><td>accuracy</td><td>multiclass</td><td>0.6931145</td></tr>\n",
       "\t<tr><td>kap     </td><td>multiclass</td><td>0.6235783</td></tr>\n",
       "</tbody>\n",
       "</table>\n"
      ],
      "text/latex": [
       "A tibble: 2 × 3\n",
       "\\begin{tabular}{lll}\n",
       " .metric & .estimator & .estimate\\\\\n",
       " <chr> & <chr> & <dbl>\\\\\n",
       "\\hline\n",
       "\t accuracy & multiclass & 0.6931145\\\\\n",
       "\t kap      & multiclass & 0.6235783\\\\\n",
       "\\end{tabular}\n"
      ],
      "text/markdown": [
       "\n",
       "A tibble: 2 × 3\n",
       "\n",
       "| .metric &lt;chr&gt; | .estimator &lt;chr&gt; | .estimate &lt;dbl&gt; |\n",
       "|---|---|---|\n",
       "| accuracy | multiclass | 0.6931145 |\n",
       "| kap      | multiclass | 0.6235783 |\n",
       "\n"
      ],
      "text/plain": [
       "  .metric  .estimator .estimate\n",
       "1 accuracy multiclass 0.6931145\n",
       "2 kap      multiclass 0.6235783"
      ]
     },
     "metadata": {},
     "output_type": "display_data"
    }
   ],
   "source": [
    "waether_prediction_accuracy <- weather_test_predictions |>\n",
    "        metrics(truth = weather, estimate = .pred_class)             \n",
    "waether_prediction_accuracy"
   ]
  },
  {
   "cell_type": "markdown",
   "id": "3751f2cb-b389-4954-a0bc-c3dc9d9d1220",
   "metadata": {},
   "source": [
    "to get a better scope of the accuracy of our classifier, we shall create a confusion matrix"
   ]
  },
  {
   "cell_type": "code",
   "execution_count": 38,
   "id": "6a36b683-d4be-4a9d-9077-3d4bc40d6829",
   "metadata": {},
   "outputs": [
    {
     "data": {
      "text/plain": [
       "                     Truth\n",
       "Prediction            clear-day clear-night cloudy partly-cloudy-day\n",
       "  clear-day                 201          37      0                 2\n",
       "  clear-night               108         365      0                 0\n",
       "  cloudy                      0           0    749               104\n",
       "  partly-cloudy-day           7           2     13               607\n",
       "  partly-cloudy-night         6           7      2               212\n",
       "  rain                        5           3    181                43\n",
       "  snow                        0           0     13                 0\n",
       "                     Truth\n",
       "Prediction            partly-cloudy-night rain snow\n",
       "  clear-day                             0    4    0\n",
       "  clear-night                           0   11    1\n",
       "  cloudy                               58  171    8\n",
       "  partly-cloudy-day                   140   58    0\n",
       "  partly-cloudy-night                 452   73    6\n",
       "  rain                                 51  636   15\n",
       "  snow                                  4    1   30"
      ]
     },
     "metadata": {},
     "output_type": "display_data"
    }
   ],
   "source": [
    "set.seed(3333)\n",
    "weather_mat <- weather_test_predictions |> \n",
    "      conf_mat(truth = weather, estimate = .pred_class)\n",
    "weather_mat"
   ]
  }
 ],
 "metadata": {
  "kernelspec": {
   "display_name": "R",
   "language": "R",
   "name": "ir"
  },
  "language_info": {
   "codemirror_mode": "r",
   "file_extension": ".r",
   "mimetype": "text/x-r-source",
   "name": "R",
   "pygments_lexer": "r",
   "version": "4.1.3"
  }
 },
 "nbformat": 4,
 "nbformat_minor": 5
}
