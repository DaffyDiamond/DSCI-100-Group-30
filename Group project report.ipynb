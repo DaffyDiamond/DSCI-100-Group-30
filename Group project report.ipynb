{
 "cells": [
  {
   "cell_type": "markdown",
   "id": "44dfc91b-6bad-47e9-b20f-67ecba1529ef",
   "metadata": {
    "tags": []
   },
   "source": [
    "# PREDICTING VANCOUVER WEATHER PROJECT REPORT"
   ]
  },
  {
   "cell_type": "markdown",
   "id": "c02bcb55-3c83-49d2-9f34-21beb963e387",
   "metadata": {
    "tags": []
   },
   "source": [
    "## Introduction\n",
    "*** intro here ***\n"
   ]
  },
  {
   "cell_type": "markdown",
   "id": "ee77326b-96eb-4bef-95d5-8b8fb5c819b9",
   "metadata": {
    "tags": []
   },
   "source": [
    "## Methods\n",
    "\n",
    "We will use the temperature (Celsius), feels-like temperature (Celsius), humidity (g/m^3), cloud cover (%), sea level pressure, and the wind speed (km/h) in order to determine the expected weather. Before working with the actual data, we are planning to predict the weather type by using common sense. For example, when the temperature is high, the expected precipitation is likely going to be on the lower side. Higher wind speed would indicate the higher precipitation rate. Then, we will use the functions and code that we learned from classification lessons to determine the actual weather type for specific hours in Vancouver. We are planning to create several different scatterplots with different y-axis: temperature, humidity, cloud cover, sea level pressure, and wind speed. The date will be the x-axis and we will categorize each point as its weather type for all graphs.\n",
    "\n"
   ]
  },
  {
   "cell_type": "markdown",
   "id": "43a6cba8-d110-411d-9307-a15844c391bc",
   "metadata": {},
   "source": [
    "First, we will load in the necesarry libraries"
   ]
  },
  {
   "cell_type": "code",
   "execution_count": 1,
   "id": "1c974c5d-895d-4876-b83f-05f3955cc87a",
   "metadata": {
    "tags": []
   },
   "outputs": [
    {
     "name": "stderr",
     "output_type": "stream",
     "text": [
      "── \u001b[1mAttaching packages\u001b[22m ─────────────────────────────────────── tidyverse 1.3.1 ──\n",
      "\n",
      "\u001b[32m✔\u001b[39m \u001b[34mggplot2\u001b[39m 3.3.6     \u001b[32m✔\u001b[39m \u001b[34mpurrr  \u001b[39m 0.3.4\n",
      "\u001b[32m✔\u001b[39m \u001b[34mtibble \u001b[39m 3.1.7     \u001b[32m✔\u001b[39m \u001b[34mdplyr  \u001b[39m 1.0.9\n",
      "\u001b[32m✔\u001b[39m \u001b[34mtidyr  \u001b[39m 1.2.0     \u001b[32m✔\u001b[39m \u001b[34mstringr\u001b[39m 1.4.0\n",
      "\u001b[32m✔\u001b[39m \u001b[34mreadr  \u001b[39m 2.1.2     \u001b[32m✔\u001b[39m \u001b[34mforcats\u001b[39m 0.5.1\n",
      "\n",
      "── \u001b[1mConflicts\u001b[22m ────────────────────────────────────────── tidyverse_conflicts() ──\n",
      "\u001b[31m✖\u001b[39m \u001b[34mdplyr\u001b[39m::\u001b[32mfilter()\u001b[39m masks \u001b[34mstats\u001b[39m::filter()\n",
      "\u001b[31m✖\u001b[39m \u001b[34mdplyr\u001b[39m::\u001b[32mlag()\u001b[39m    masks \u001b[34mstats\u001b[39m::lag()\n",
      "\n",
      "── \u001b[1mAttaching packages\u001b[22m ────────────────────────────────────── tidymodels 1.0.0 ──\n",
      "\n",
      "\u001b[32m✔\u001b[39m \u001b[34mbroom       \u001b[39m 1.0.0     \u001b[32m✔\u001b[39m \u001b[34mrsample     \u001b[39m 1.0.0\n",
      "\u001b[32m✔\u001b[39m \u001b[34mdials       \u001b[39m 1.0.0     \u001b[32m✔\u001b[39m \u001b[34mtune        \u001b[39m 1.0.0\n",
      "\u001b[32m✔\u001b[39m \u001b[34minfer       \u001b[39m 1.0.2     \u001b[32m✔\u001b[39m \u001b[34mworkflows   \u001b[39m 1.0.0\n",
      "\u001b[32m✔\u001b[39m \u001b[34mmodeldata   \u001b[39m 1.0.0     \u001b[32m✔\u001b[39m \u001b[34mworkflowsets\u001b[39m 1.0.0\n",
      "\u001b[32m✔\u001b[39m \u001b[34mparsnip     \u001b[39m 1.0.0     \u001b[32m✔\u001b[39m \u001b[34myardstick   \u001b[39m 1.0.0\n",
      "\u001b[32m✔\u001b[39m \u001b[34mrecipes     \u001b[39m 1.0.1     \n",
      "\n",
      "── \u001b[1mConflicts\u001b[22m ───────────────────────────────────────── tidymodels_conflicts() ──\n",
      "\u001b[31m✖\u001b[39m \u001b[34mscales\u001b[39m::\u001b[32mdiscard()\u001b[39m masks \u001b[34mpurrr\u001b[39m::discard()\n",
      "\u001b[31m✖\u001b[39m \u001b[34mdplyr\u001b[39m::\u001b[32mfilter()\u001b[39m   masks \u001b[34mstats\u001b[39m::filter()\n",
      "\u001b[31m✖\u001b[39m \u001b[34mrecipes\u001b[39m::\u001b[32mfixed()\u001b[39m  masks \u001b[34mstringr\u001b[39m::fixed()\n",
      "\u001b[31m✖\u001b[39m \u001b[34mdplyr\u001b[39m::\u001b[32mlag()\u001b[39m      masks \u001b[34mstats\u001b[39m::lag()\n",
      "\u001b[31m✖\u001b[39m \u001b[34myardstick\u001b[39m::\u001b[32mspec()\u001b[39m masks \u001b[34mreadr\u001b[39m::spec()\n",
      "\u001b[31m✖\u001b[39m \u001b[34mrecipes\u001b[39m::\u001b[32mstep()\u001b[39m   masks \u001b[34mstats\u001b[39m::step()\n",
      "\u001b[34m•\u001b[39m Learn how to get started at \u001b[32mhttps://www.tidymodels.org/start/\u001b[39m\n",
      "\n"
     ]
    },
    {
     "ename": "ERROR",
     "evalue": "Error in library(themis): there is no package called ‘themis’\n",
     "output_type": "error",
     "traceback": [
      "Error in library(themis): there is no package called ‘themis’\nTraceback:\n",
      "1. library(themis)"
     ]
    }
   ],
   "source": [
    "library(repr)\n",
    "library(tidyverse)\n",
    "library(tidymodels)\n",
    "library(themis)"
   ]
  },
  {
   "cell_type": "markdown",
   "id": "45736791-b923-4e11-973b-3fd0a3fe2bb5",
   "metadata": {},
   "source": [
    "We will now read our data from the web"
   ]
  },
  {
   "cell_type": "code",
   "execution_count": 2,
   "id": "b88b8e24-5d10-4dfb-af46-173e77e4e573",
   "metadata": {},
   "outputs": [
    {
     "name": "stderr",
     "output_type": "stream",
     "text": [
      "\u001b[1mRows: \u001b[22m\u001b[34m17544\u001b[39m \u001b[1mColumns: \u001b[22m\u001b[34m24\u001b[39m\n",
      "\u001b[36m──\u001b[39m \u001b[1mColumn specification\u001b[22m \u001b[36m────────────────────────────────────────────────────────\u001b[39m\n",
      "\u001b[1mDelimiter:\u001b[22m \",\"\n",
      "\u001b[31mchr\u001b[39m   (5): name, preciptype, conditions, icon, stations\n",
      "\u001b[32mdbl\u001b[39m  (18): temp, feelslike, dew, humidity, precip, precipprob, snow, snowdep...\n",
      "\u001b[34mdttm\u001b[39m  (1): datetime\n",
      "\n",
      "\u001b[36mℹ\u001b[39m Use `spec()` to retrieve the full column specification for this data.\n",
      "\u001b[36mℹ\u001b[39m Specify the column types or set `show_col_types = FALSE` to quiet this message.\n"
     ]
    },
    {
     "data": {
      "text/html": [
       "<table class=\"dataframe\">\n",
       "<caption>A tibble: 5 × 24</caption>\n",
       "<thead>\n",
       "\t<tr><th scope=col>name</th><th scope=col>datetime</th><th scope=col>temp</th><th scope=col>feelslike</th><th scope=col>dew</th><th scope=col>humidity</th><th scope=col>precip</th><th scope=col>precipprob</th><th scope=col>preciptype</th><th scope=col>snow</th><th scope=col>⋯</th><th scope=col>sealevelpressure</th><th scope=col>cloudcover</th><th scope=col>visibility</th><th scope=col>solarradiation</th><th scope=col>solarenergy</th><th scope=col>uvindex</th><th scope=col>severerisk</th><th scope=col>conditions</th><th scope=col>icon</th><th scope=col>stations</th></tr>\n",
       "\t<tr><th scope=col>&lt;chr&gt;</th><th scope=col>&lt;dttm&gt;</th><th scope=col>&lt;dbl&gt;</th><th scope=col>&lt;dbl&gt;</th><th scope=col>&lt;dbl&gt;</th><th scope=col>&lt;dbl&gt;</th><th scope=col>&lt;dbl&gt;</th><th scope=col>&lt;dbl&gt;</th><th scope=col>&lt;chr&gt;</th><th scope=col>&lt;dbl&gt;</th><th scope=col>⋯</th><th scope=col>&lt;dbl&gt;</th><th scope=col>&lt;dbl&gt;</th><th scope=col>&lt;dbl&gt;</th><th scope=col>&lt;dbl&gt;</th><th scope=col>&lt;dbl&gt;</th><th scope=col>&lt;dbl&gt;</th><th scope=col>&lt;dbl&gt;</th><th scope=col>&lt;chr&gt;</th><th scope=col>&lt;chr&gt;</th><th scope=col>&lt;chr&gt;</th></tr>\n",
       "</thead>\n",
       "<tbody>\n",
       "\t<tr><td>vancouver</td><td>2020-12-31 00:00:00</td><td>5.9</td><td>3.0</td><td>5.3</td><td>95.97</td><td>1.376</td><td>100</td><td>rain</td><td>0</td><td>⋯</td><td>1005.7</td><td> 84.6</td><td>13</td><td>0</td><td>NA</td><td>0</td><td>NA</td><td>Rain, Partially cloudy</td><td>rain</td><td>71608099999,CWWA,71211099999,71784099999,71892099999,71042099999</td></tr>\n",
       "\t<tr><td>vancouver</td><td>2020-12-31 01:00:00</td><td>5.7</td><td>2.9</td><td>5.0</td><td>95.13</td><td>0.191</td><td>100</td><td>rain</td><td>0</td><td>⋯</td><td>1006.3</td><td>100.0</td><td>12</td><td>0</td><td>NA</td><td>0</td><td>NA</td><td>Rain, Overcast        </td><td>rain</td><td>71608099999,CWWA,71211099999,71784099999,71892099999,71042099999</td></tr>\n",
       "\t<tr><td>vancouver</td><td>2020-12-31 02:00:00</td><td>5.8</td><td>3.5</td><td>4.9</td><td>93.72</td><td>0.606</td><td>100</td><td>rain</td><td>0</td><td>⋯</td><td>1007.4</td><td> 71.2</td><td>16</td><td>0</td><td>NA</td><td>0</td><td>NA</td><td>Rain, Partially cloudy</td><td>rain</td><td>71608099999,CWWA,71211099999,71784099999,71892099999,71042099999</td></tr>\n",
       "\t<tr><td>vancouver</td><td>2020-12-31 03:00:00</td><td>5.7</td><td>3.7</td><td>4.8</td><td>94.11</td><td>0.108</td><td>100</td><td>rain</td><td>0</td><td>⋯</td><td>1008.5</td><td> 80.7</td><td>24</td><td>0</td><td>NA</td><td>0</td><td>NA</td><td>Rain, Partially cloudy</td><td>rain</td><td>71608099999,CWWA,71211099999,71784099999,71892099999,71042099999</td></tr>\n",
       "\t<tr><td>vancouver</td><td>2020-12-31 04:00:00</td><td>5.5</td><td>3.5</td><td>5.1</td><td>96.73</td><td>2.166</td><td>100</td><td>rain</td><td>0</td><td>⋯</td><td>1009.6</td><td>100.0</td><td> 6</td><td>0</td><td>NA</td><td>0</td><td>NA</td><td>Rain, Overcast        </td><td>rain</td><td>CWWA,71211099999,71775099999,71784099999,71892099999,71042099999</td></tr>\n",
       "</tbody>\n",
       "</table>\n"
      ],
      "text/latex": [
       "A tibble: 5 × 24\n",
       "\\begin{tabular}{lllllllllllllllllllll}\n",
       " name & datetime & temp & feelslike & dew & humidity & precip & precipprob & preciptype & snow & ⋯ & sealevelpressure & cloudcover & visibility & solarradiation & solarenergy & uvindex & severerisk & conditions & icon & stations\\\\\n",
       " <chr> & <dttm> & <dbl> & <dbl> & <dbl> & <dbl> & <dbl> & <dbl> & <chr> & <dbl> & ⋯ & <dbl> & <dbl> & <dbl> & <dbl> & <dbl> & <dbl> & <dbl> & <chr> & <chr> & <chr>\\\\\n",
       "\\hline\n",
       "\t vancouver & 2020-12-31 00:00:00 & 5.9 & 3.0 & 5.3 & 95.97 & 1.376 & 100 & rain & 0 & ⋯ & 1005.7 &  84.6 & 13 & 0 & NA & 0 & NA & Rain, Partially cloudy & rain & 71608099999,CWWA,71211099999,71784099999,71892099999,71042099999\\\\\n",
       "\t vancouver & 2020-12-31 01:00:00 & 5.7 & 2.9 & 5.0 & 95.13 & 0.191 & 100 & rain & 0 & ⋯ & 1006.3 & 100.0 & 12 & 0 & NA & 0 & NA & Rain, Overcast         & rain & 71608099999,CWWA,71211099999,71784099999,71892099999,71042099999\\\\\n",
       "\t vancouver & 2020-12-31 02:00:00 & 5.8 & 3.5 & 4.9 & 93.72 & 0.606 & 100 & rain & 0 & ⋯ & 1007.4 &  71.2 & 16 & 0 & NA & 0 & NA & Rain, Partially cloudy & rain & 71608099999,CWWA,71211099999,71784099999,71892099999,71042099999\\\\\n",
       "\t vancouver & 2020-12-31 03:00:00 & 5.7 & 3.7 & 4.8 & 94.11 & 0.108 & 100 & rain & 0 & ⋯ & 1008.5 &  80.7 & 24 & 0 & NA & 0 & NA & Rain, Partially cloudy & rain & 71608099999,CWWA,71211099999,71784099999,71892099999,71042099999\\\\\n",
       "\t vancouver & 2020-12-31 04:00:00 & 5.5 & 3.5 & 5.1 & 96.73 & 2.166 & 100 & rain & 0 & ⋯ & 1009.6 & 100.0 &  6 & 0 & NA & 0 & NA & Rain, Overcast         & rain & CWWA,71211099999,71775099999,71784099999,71892099999,71042099999\\\\\n",
       "\\end{tabular}\n"
      ],
      "text/markdown": [
       "\n",
       "A tibble: 5 × 24\n",
       "\n",
       "| name &lt;chr&gt; | datetime &lt;dttm&gt; | temp &lt;dbl&gt; | feelslike &lt;dbl&gt; | dew &lt;dbl&gt; | humidity &lt;dbl&gt; | precip &lt;dbl&gt; | precipprob &lt;dbl&gt; | preciptype &lt;chr&gt; | snow &lt;dbl&gt; | ⋯ ⋯ | sealevelpressure &lt;dbl&gt; | cloudcover &lt;dbl&gt; | visibility &lt;dbl&gt; | solarradiation &lt;dbl&gt; | solarenergy &lt;dbl&gt; | uvindex &lt;dbl&gt; | severerisk &lt;dbl&gt; | conditions &lt;chr&gt; | icon &lt;chr&gt; | stations &lt;chr&gt; |\n",
       "|---|---|---|---|---|---|---|---|---|---|---|---|---|---|---|---|---|---|---|---|---|\n",
       "| vancouver | 2020-12-31 00:00:00 | 5.9 | 3.0 | 5.3 | 95.97 | 1.376 | 100 | rain | 0 | ⋯ | 1005.7 |  84.6 | 13 | 0 | NA | 0 | NA | Rain, Partially cloudy | rain | 71608099999,CWWA,71211099999,71784099999,71892099999,71042099999 |\n",
       "| vancouver | 2020-12-31 01:00:00 | 5.7 | 2.9 | 5.0 | 95.13 | 0.191 | 100 | rain | 0 | ⋯ | 1006.3 | 100.0 | 12 | 0 | NA | 0 | NA | Rain, Overcast         | rain | 71608099999,CWWA,71211099999,71784099999,71892099999,71042099999 |\n",
       "| vancouver | 2020-12-31 02:00:00 | 5.8 | 3.5 | 4.9 | 93.72 | 0.606 | 100 | rain | 0 | ⋯ | 1007.4 |  71.2 | 16 | 0 | NA | 0 | NA | Rain, Partially cloudy | rain | 71608099999,CWWA,71211099999,71784099999,71892099999,71042099999 |\n",
       "| vancouver | 2020-12-31 03:00:00 | 5.7 | 3.7 | 4.8 | 94.11 | 0.108 | 100 | rain | 0 | ⋯ | 1008.5 |  80.7 | 24 | 0 | NA | 0 | NA | Rain, Partially cloudy | rain | 71608099999,CWWA,71211099999,71784099999,71892099999,71042099999 |\n",
       "| vancouver | 2020-12-31 04:00:00 | 5.5 | 3.5 | 5.1 | 96.73 | 2.166 | 100 | rain | 0 | ⋯ | 1009.6 | 100.0 |  6 | 0 | NA | 0 | NA | Rain, Overcast         | rain | CWWA,71211099999,71775099999,71784099999,71892099999,71042099999 |\n",
       "\n"
      ],
      "text/plain": [
       "  name      datetime            temp feelslike dew humidity precip precipprob\n",
       "1 vancouver 2020-12-31 00:00:00 5.9  3.0       5.3 95.97    1.376  100       \n",
       "2 vancouver 2020-12-31 01:00:00 5.7  2.9       5.0 95.13    0.191  100       \n",
       "3 vancouver 2020-12-31 02:00:00 5.8  3.5       4.9 93.72    0.606  100       \n",
       "4 vancouver 2020-12-31 03:00:00 5.7  3.7       4.8 94.11    0.108  100       \n",
       "5 vancouver 2020-12-31 04:00:00 5.5  3.5       5.1 96.73    2.166  100       \n",
       "  preciptype snow ⋯ sealevelpressure cloudcover visibility solarradiation\n",
       "1 rain       0    ⋯ 1005.7            84.6      13         0             \n",
       "2 rain       0    ⋯ 1006.3           100.0      12         0             \n",
       "3 rain       0    ⋯ 1007.4            71.2      16         0             \n",
       "4 rain       0    ⋯ 1008.5            80.7      24         0             \n",
       "5 rain       0    ⋯ 1009.6           100.0       6         0             \n",
       "  solarenergy uvindex severerisk conditions             icon\n",
       "1 NA          0       NA         Rain, Partially cloudy rain\n",
       "2 NA          0       NA         Rain, Overcast         rain\n",
       "3 NA          0       NA         Rain, Partially cloudy rain\n",
       "4 NA          0       NA         Rain, Partially cloudy rain\n",
       "5 NA          0       NA         Rain, Overcast         rain\n",
       "  stations                                                        \n",
       "1 71608099999,CWWA,71211099999,71784099999,71892099999,71042099999\n",
       "2 71608099999,CWWA,71211099999,71784099999,71892099999,71042099999\n",
       "3 71608099999,CWWA,71211099999,71784099999,71892099999,71042099999\n",
       "4 71608099999,CWWA,71211099999,71784099999,71892099999,71042099999\n",
       "5 CWWA,71211099999,71775099999,71784099999,71892099999,71042099999"
      ]
     },
     "metadata": {},
     "output_type": "display_data"
    }
   ],
   "source": [
    "weather_data <- read_csv(\"https://raw.githubusercontent.com/DaffyDiamond/DSCI-100-Group-30/main/data/vancouver_hourly.csv\")\n",
    "head(weather_data, 5)"
   ]
  },
  {
   "cell_type": "markdown",
   "id": "d2c15be3-775c-4261-a05f-99996e928ee8",
   "metadata": {},
   "source": [
    "Next we clean the data by removing columns and rows that are unnecesarry to our project"
   ]
  },
  {
   "cell_type": "code",
   "execution_count": 3,
   "id": "808d1d5d-1d7f-44f9-a3c0-ff1f5b879ec1",
   "metadata": {},
   "outputs": [
    {
     "data": {
      "text/html": [
       "<table class=\"dataframe\">\n",
       "<caption>A tibble: 5 × 8</caption>\n",
       "<thead>\n",
       "\t<tr><th scope=col>datetime</th><th scope=col>temp</th><th scope=col>feelslike</th><th scope=col>humidity</th><th scope=col>sealevelpressure</th><th scope=col>windspeed</th><th scope=col>cloudcover</th><th scope=col>weather</th></tr>\n",
       "\t<tr><th scope=col>&lt;dttm&gt;</th><th scope=col>&lt;dbl&gt;</th><th scope=col>&lt;dbl&gt;</th><th scope=col>&lt;dbl&gt;</th><th scope=col>&lt;dbl&gt;</th><th scope=col>&lt;dbl&gt;</th><th scope=col>&lt;dbl&gt;</th><th scope=col>&lt;chr&gt;</th></tr>\n",
       "</thead>\n",
       "<tbody>\n",
       "\t<tr><td>2020-12-31 00:00:00</td><td>5.9</td><td>3.0</td><td>95.97</td><td>1005.7</td><td>14.3</td><td> 84.6</td><td>rain</td></tr>\n",
       "\t<tr><td>2020-12-31 01:00:00</td><td>5.7</td><td>2.9</td><td>95.13</td><td>1006.3</td><td>13.4</td><td>100.0</td><td>rain</td></tr>\n",
       "\t<tr><td>2020-12-31 02:00:00</td><td>5.8</td><td>3.5</td><td>93.72</td><td>1007.4</td><td>10.7</td><td> 71.2</td><td>rain</td></tr>\n",
       "\t<tr><td>2020-12-31 03:00:00</td><td>5.7</td><td>3.7</td><td>94.11</td><td>1008.5</td><td> 9.3</td><td> 80.7</td><td>rain</td></tr>\n",
       "\t<tr><td>2020-12-31 04:00:00</td><td>5.5</td><td>3.5</td><td>96.73</td><td>1009.6</td><td> 9.2</td><td>100.0</td><td>rain</td></tr>\n",
       "</tbody>\n",
       "</table>\n"
      ],
      "text/latex": [
       "A tibble: 5 × 8\n",
       "\\begin{tabular}{llllllll}\n",
       " datetime & temp & feelslike & humidity & sealevelpressure & windspeed & cloudcover & weather\\\\\n",
       " <dttm> & <dbl> & <dbl> & <dbl> & <dbl> & <dbl> & <dbl> & <chr>\\\\\n",
       "\\hline\n",
       "\t 2020-12-31 00:00:00 & 5.9 & 3.0 & 95.97 & 1005.7 & 14.3 &  84.6 & rain\\\\\n",
       "\t 2020-12-31 01:00:00 & 5.7 & 2.9 & 95.13 & 1006.3 & 13.4 & 100.0 & rain\\\\\n",
       "\t 2020-12-31 02:00:00 & 5.8 & 3.5 & 93.72 & 1007.4 & 10.7 &  71.2 & rain\\\\\n",
       "\t 2020-12-31 03:00:00 & 5.7 & 3.7 & 94.11 & 1008.5 &  9.3 &  80.7 & rain\\\\\n",
       "\t 2020-12-31 04:00:00 & 5.5 & 3.5 & 96.73 & 1009.6 &  9.2 & 100.0 & rain\\\\\n",
       "\\end{tabular}\n"
      ],
      "text/markdown": [
       "\n",
       "A tibble: 5 × 8\n",
       "\n",
       "| datetime &lt;dttm&gt; | temp &lt;dbl&gt; | feelslike &lt;dbl&gt; | humidity &lt;dbl&gt; | sealevelpressure &lt;dbl&gt; | windspeed &lt;dbl&gt; | cloudcover &lt;dbl&gt; | weather &lt;chr&gt; |\n",
       "|---|---|---|---|---|---|---|---|\n",
       "| 2020-12-31 00:00:00 | 5.9 | 3.0 | 95.97 | 1005.7 | 14.3 |  84.6 | rain |\n",
       "| 2020-12-31 01:00:00 | 5.7 | 2.9 | 95.13 | 1006.3 | 13.4 | 100.0 | rain |\n",
       "| 2020-12-31 02:00:00 | 5.8 | 3.5 | 93.72 | 1007.4 | 10.7 |  71.2 | rain |\n",
       "| 2020-12-31 03:00:00 | 5.7 | 3.7 | 94.11 | 1008.5 |  9.3 |  80.7 | rain |\n",
       "| 2020-12-31 04:00:00 | 5.5 | 3.5 | 96.73 | 1009.6 |  9.2 | 100.0 | rain |\n",
       "\n"
      ],
      "text/plain": [
       "  datetime            temp feelslike humidity sealevelpressure windspeed\n",
       "1 2020-12-31 00:00:00 5.9  3.0       95.97    1005.7           14.3     \n",
       "2 2020-12-31 01:00:00 5.7  2.9       95.13    1006.3           13.4     \n",
       "3 2020-12-31 02:00:00 5.8  3.5       93.72    1007.4           10.7     \n",
       "4 2020-12-31 03:00:00 5.7  3.7       94.11    1008.5            9.3     \n",
       "5 2020-12-31 04:00:00 5.5  3.5       96.73    1009.6            9.2     \n",
       "  cloudcover weather\n",
       "1  84.6      rain   \n",
       "2 100.0      rain   \n",
       "3  71.2      rain   \n",
       "4  80.7      rain   \n",
       "5 100.0      rain   "
      ]
     },
     "metadata": {},
     "output_type": "display_data"
    }
   ],
   "source": [
    "# selected out variables that are irrelivant to our predictions\n",
    "weather_cleaned <- weather_data |>\n",
    "    select(datetime, temp, feelslike, humidity, sealevelpressure, windspeed, cloudcover, icon) |>\n",
    "    rename(weather = icon) |>\n",
    "# wind has been filtered out due to being statistically insignificant\n",
    "    filter(!(weather == \"wind\"))\n",
    "\n",
    "head(weather_cleaned, 5)"
   ]
  },
  {
   "cell_type": "markdown",
   "id": "0d80717f-dfb9-40d0-8d08-b0f75853115f",
   "metadata": {},
   "source": [
    "We are now ready to split the data into training and testing to prepare for classification, a seed is used so results can be replicated."
   ]
  },
  {
   "cell_type": "code",
   "execution_count": 4,
   "id": "23338990-a273-4a73-869e-901f8be8b466",
   "metadata": {},
   "outputs": [],
   "source": [
    "set.seed(1234)\n",
    "\n",
    "weather_split <- initial_split(weather_cleaned, prop = 0.75, strata = weather)\n",
    "weather_training <- training(weather_split)\n",
    "weather_testing <- testing(weather_split)"
   ]
  },
  {
   "cell_type": "markdown",
   "id": "2ce9c7fa-7024-4e0d-a786-5194431e84bd",
   "metadata": {},
   "source": [
    "We will now take a look at the preportions of our data"
   ]
  },
  {
   "cell_type": "code",
   "execution_count": 5,
   "id": "c627e4d7-7e99-4486-a884-8f2d4246ade3",
   "metadata": {},
   "outputs": [
    {
     "data": {
      "text/html": [
       "<table class=\"dataframe\">\n",
       "<caption>A tibble: 7 × 2</caption>\n",
       "<thead>\n",
       "\t<tr><th scope=col>weather</th><th scope=col>n()</th></tr>\n",
       "\t<tr><th scope=col>&lt;chr&gt;</th><th scope=col>&lt;int&gt;</th></tr>\n",
       "</thead>\n",
       "<tbody>\n",
       "\t<tr><td>clear-day          </td><td> 908</td></tr>\n",
       "\t<tr><td>clear-night        </td><td>1190</td></tr>\n",
       "\t<tr><td>cloudy             </td><td>2834</td></tr>\n",
       "\t<tr><td>partly-cloudy-day  </td><td>2890</td></tr>\n",
       "\t<tr><td>partly-cloudy-night</td><td>2218</td></tr>\n",
       "\t<tr><td>rain               </td><td>2879</td></tr>\n",
       "\t<tr><td>snow               </td><td> 233</td></tr>\n",
       "</tbody>\n",
       "</table>\n"
      ],
      "text/latex": [
       "A tibble: 7 × 2\n",
       "\\begin{tabular}{ll}\n",
       " weather & n()\\\\\n",
       " <chr> & <int>\\\\\n",
       "\\hline\n",
       "\t clear-day           &  908\\\\\n",
       "\t clear-night         & 1190\\\\\n",
       "\t cloudy              & 2834\\\\\n",
       "\t partly-cloudy-day   & 2890\\\\\n",
       "\t partly-cloudy-night & 2218\\\\\n",
       "\t rain                & 2879\\\\\n",
       "\t snow                &  233\\\\\n",
       "\\end{tabular}\n"
      ],
      "text/markdown": [
       "\n",
       "A tibble: 7 × 2\n",
       "\n",
       "| weather &lt;chr&gt; | n() &lt;int&gt; |\n",
       "|---|---|\n",
       "| clear-day           |  908 |\n",
       "| clear-night         | 1190 |\n",
       "| cloudy              | 2834 |\n",
       "| partly-cloudy-day   | 2890 |\n",
       "| partly-cloudy-night | 2218 |\n",
       "| rain                | 2879 |\n",
       "| snow                |  233 |\n",
       "\n"
      ],
      "text/plain": [
       "  weather             n() \n",
       "1 clear-day            908\n",
       "2 clear-night         1190\n",
       "3 cloudy              2834\n",
       "4 partly-cloudy-day   2890\n",
       "5 partly-cloudy-night 2218\n",
       "6 rain                2879\n",
       "7 snow                 233"
      ]
     },
     "metadata": {},
     "output_type": "display_data"
    }
   ],
   "source": [
    "weather_amount <- weather_training |>\n",
    "    group_by(weather) |>\n",
    "    summarize(n())\n",
    "weather_amount"
   ]
  },
  {
   "cell_type": "markdown",
   "id": "ed78ce59-904c-49c5-9bfe-a5742b67b7ca",
   "metadata": {},
   "source": [
    "the proportions of the data appears to be quite unblanced, this means we will have to scale and balance the data in the recipe"
   ]
  },
  {
   "cell_type": "code",
   "execution_count": 6,
   "id": "5b860972-5b17-442e-b8b8-c9a7bbac0043",
   "metadata": {},
   "outputs": [],
   "source": [
    "weather_recipe <- recipe( weather ~ temp + feelslike + humidity + sealevelpressure + windspeed + cloudcover, data = weather_training) |>\n",
    "  step_scale(all_predictors()) |>\n",
    "  step_center(all_predictors()) "
   ]
  },
  {
   "cell_type": "markdown",
   "id": "d48dff71-1462-474b-b6d9-51e8dfa17299",
   "metadata": {},
   "source": [
    "before we start the classification, we must first design the specification, ktune must be used to find the optimal k value."
   ]
  },
  {
   "cell_type": "code",
   "execution_count": 7,
   "id": "c6727d73-ced9-496b-94aa-72a85ccd2923",
   "metadata": {},
   "outputs": [
    {
     "data": {
      "text/plain": [
       "K-Nearest Neighbor Model Specification (classification)\n",
       "\n",
       "Main Arguments:\n",
       "  neighbors = tune()\n",
       "  weight_func = rectangular\n",
       "\n",
       "Computational engine: kknn \n"
      ]
     },
     "metadata": {},
     "output_type": "display_data"
    }
   ],
   "source": [
    "knn_tune <- nearest_neighbor(weight_func = \"rectangular\", neighbors = tune()) |>\n",
    "      set_engine(\"kknn\") |>\n",
    "      set_mode(\"classification\")\n",
    "knn_tune"
   ]
  },
  {
   "cell_type": "markdown",
   "id": "fc32df9a-54c7-4c5d-bb6c-42caf5d78d85",
   "metadata": {},
   "source": [
    "To find the optimal k value, we will be using 10 fold cross validation to ensure greater accuracy "
   ]
  },
  {
   "cell_type": "code",
   "execution_count": 13,
   "id": "8a4a666b-aadd-4798-9806-9495230e1c1e",
   "metadata": {},
   "outputs": [],
   "source": [
    "weather_vfold <- vfold_cv(weather_training, v = 5, strata = weather)"
   ]
  },
  {
   "cell_type": "markdown",
   "id": "5496f1b3-eaf8-45da-936e-e0850ec5d65b",
   "metadata": {},
   "source": [
    "we will now create the resample workflow to help us find the ideal k value"
   ]
  },
  {
   "cell_type": "code",
   "execution_count": 19,
   "id": "bd7a0fe6-aebf-4e1c-89f8-03387d9fdd3a",
   "metadata": {},
   "outputs": [
    {
     "name": "stderr",
     "output_type": "stream",
     "text": [
      "\u001b[31mx\u001b[39m \u001b[31mFold2: preprocessor 1/1, model 1/1 (predictions):\n",
      "  \u001b[1m\u001b[33mError\u001b[31m in \u001b[1m\u001b[1m`mutate()`:\u001b[22m\n",
      "  \u001b[1m\u001b[22m\u001b[33m!\u001b[31m Problem while computing `.row = orig_rows`.\n",
      "  \u001b[31m✖\u001b[31m `.row` must be size 2630 or 1, not 2631.\u001b[39m\n",
      "\n"
     ]
    },
    {
     "data": {
      "text/html": [
       "<table class=\"dataframe\">\n",
       "<caption>A tibble: 20 × 7</caption>\n",
       "<thead>\n",
       "\t<tr><th scope=col>neighbors</th><th scope=col>.metric</th><th scope=col>.estimator</th><th scope=col>mean</th><th scope=col>n</th><th scope=col>std_err</th><th scope=col>.config</th></tr>\n",
       "\t<tr><th scope=col>&lt;dbl&gt;</th><th scope=col>&lt;chr&gt;</th><th scope=col>&lt;chr&gt;</th><th scope=col>&lt;dbl&gt;</th><th scope=col>&lt;int&gt;</th><th scope=col>&lt;dbl&gt;</th><th scope=col>&lt;chr&gt;</th></tr>\n",
       "</thead>\n",
       "<tbody>\n",
       "\t<tr><td> 1</td><td>accuracy</td><td>multiclass</td><td>0.6523131</td><td>4</td><td>0.005465227</td><td>Preprocessor1_Model01</td></tr>\n",
       "\t<tr><td> 1</td><td>roc_auc </td><td>hand_till </td><td>0.8029898</td><td>4</td><td>0.003745297</td><td>Preprocessor1_Model01</td></tr>\n",
       "\t<tr><td>11</td><td>accuracy</td><td>multiclass</td><td>0.6930897</td><td>4</td><td>0.001780009</td><td>Preprocessor1_Model02</td></tr>\n",
       "\t<tr><td>11</td><td>roc_auc </td><td>hand_till </td><td>0.9352862</td><td>4</td><td>0.002348743</td><td>Preprocessor1_Model02</td></tr>\n",
       "\t<tr><td>21</td><td>accuracy</td><td>multiclass</td><td>0.6913812</td><td>4</td><td>0.003233039</td><td>Preprocessor1_Model03</td></tr>\n",
       "\t<tr><td>21</td><td>roc_auc </td><td>hand_till </td><td>0.9394713</td><td>4</td><td>0.001671032</td><td>Preprocessor1_Model03</td></tr>\n",
       "\t<tr><td>31</td><td>accuracy</td><td>multiclass</td><td>0.6866284</td><td>4</td><td>0.003099973</td><td>Preprocessor1_Model04</td></tr>\n",
       "\t<tr><td>31</td><td>roc_auc </td><td>hand_till </td><td>0.9413360</td><td>4</td><td>0.002078753</td><td>Preprocessor1_Model04</td></tr>\n",
       "\t<tr><td>41</td><td>accuracy</td><td>multiclass</td><td>0.6833966</td><td>4</td><td>0.004212672</td><td>Preprocessor1_Model05</td></tr>\n",
       "\t<tr><td>41</td><td>roc_auc </td><td>hand_till </td><td>0.9403723</td><td>4</td><td>0.002178079</td><td>Preprocessor1_Model05</td></tr>\n",
       "\t<tr><td>51</td><td>accuracy</td><td>multiclass</td><td>0.6797852</td><td>4</td><td>0.003287302</td><td>Preprocessor1_Model06</td></tr>\n",
       "\t<tr><td>51</td><td>roc_auc </td><td>hand_till </td><td>0.9398910</td><td>4</td><td>0.002217907</td><td>Preprocessor1_Model06</td></tr>\n",
       "\t<tr><td>61</td><td>accuracy</td><td>multiclass</td><td>0.6777879</td><td>4</td><td>0.002544681</td><td>Preprocessor1_Model07</td></tr>\n",
       "\t<tr><td>61</td><td>roc_auc </td><td>hand_till </td><td>0.9383269</td><td>4</td><td>0.002140488</td><td>Preprocessor1_Model07</td></tr>\n",
       "\t<tr><td>71</td><td>accuracy</td><td>multiclass</td><td>0.6763628</td><td>4</td><td>0.002757908</td><td>Preprocessor1_Model08</td></tr>\n",
       "\t<tr><td>71</td><td>roc_auc </td><td>hand_till </td><td>0.9375822</td><td>4</td><td>0.001414867</td><td>Preprocessor1_Model08</td></tr>\n",
       "\t<tr><td>81</td><td>accuracy</td><td>multiclass</td><td>0.6758875</td><td>4</td><td>0.003450831</td><td>Preprocessor1_Model09</td></tr>\n",
       "\t<tr><td>81</td><td>roc_auc </td><td>hand_till </td><td>0.9362311</td><td>4</td><td>0.001428369</td><td>Preprocessor1_Model09</td></tr>\n",
       "\t<tr><td>91</td><td>accuracy</td><td>multiclass</td><td>0.6730362</td><td>4</td><td>0.002769722</td><td>Preprocessor1_Model10</td></tr>\n",
       "\t<tr><td>91</td><td>roc_auc </td><td>hand_till </td><td>0.9350209</td><td>4</td><td>0.001417366</td><td>Preprocessor1_Model10</td></tr>\n",
       "</tbody>\n",
       "</table>\n"
      ],
      "text/latex": [
       "A tibble: 20 × 7\n",
       "\\begin{tabular}{lllllll}\n",
       " neighbors & .metric & .estimator & mean & n & std\\_err & .config\\\\\n",
       " <dbl> & <chr> & <chr> & <dbl> & <int> & <dbl> & <chr>\\\\\n",
       "\\hline\n",
       "\t  1 & accuracy & multiclass & 0.6523131 & 4 & 0.005465227 & Preprocessor1\\_Model01\\\\\n",
       "\t  1 & roc\\_auc  & hand\\_till  & 0.8029898 & 4 & 0.003745297 & Preprocessor1\\_Model01\\\\\n",
       "\t 11 & accuracy & multiclass & 0.6930897 & 4 & 0.001780009 & Preprocessor1\\_Model02\\\\\n",
       "\t 11 & roc\\_auc  & hand\\_till  & 0.9352862 & 4 & 0.002348743 & Preprocessor1\\_Model02\\\\\n",
       "\t 21 & accuracy & multiclass & 0.6913812 & 4 & 0.003233039 & Preprocessor1\\_Model03\\\\\n",
       "\t 21 & roc\\_auc  & hand\\_till  & 0.9394713 & 4 & 0.001671032 & Preprocessor1\\_Model03\\\\\n",
       "\t 31 & accuracy & multiclass & 0.6866284 & 4 & 0.003099973 & Preprocessor1\\_Model04\\\\\n",
       "\t 31 & roc\\_auc  & hand\\_till  & 0.9413360 & 4 & 0.002078753 & Preprocessor1\\_Model04\\\\\n",
       "\t 41 & accuracy & multiclass & 0.6833966 & 4 & 0.004212672 & Preprocessor1\\_Model05\\\\\n",
       "\t 41 & roc\\_auc  & hand\\_till  & 0.9403723 & 4 & 0.002178079 & Preprocessor1\\_Model05\\\\\n",
       "\t 51 & accuracy & multiclass & 0.6797852 & 4 & 0.003287302 & Preprocessor1\\_Model06\\\\\n",
       "\t 51 & roc\\_auc  & hand\\_till  & 0.9398910 & 4 & 0.002217907 & Preprocessor1\\_Model06\\\\\n",
       "\t 61 & accuracy & multiclass & 0.6777879 & 4 & 0.002544681 & Preprocessor1\\_Model07\\\\\n",
       "\t 61 & roc\\_auc  & hand\\_till  & 0.9383269 & 4 & 0.002140488 & Preprocessor1\\_Model07\\\\\n",
       "\t 71 & accuracy & multiclass & 0.6763628 & 4 & 0.002757908 & Preprocessor1\\_Model08\\\\\n",
       "\t 71 & roc\\_auc  & hand\\_till  & 0.9375822 & 4 & 0.001414867 & Preprocessor1\\_Model08\\\\\n",
       "\t 81 & accuracy & multiclass & 0.6758875 & 4 & 0.003450831 & Preprocessor1\\_Model09\\\\\n",
       "\t 81 & roc\\_auc  & hand\\_till  & 0.9362311 & 4 & 0.001428369 & Preprocessor1\\_Model09\\\\\n",
       "\t 91 & accuracy & multiclass & 0.6730362 & 4 & 0.002769722 & Preprocessor1\\_Model10\\\\\n",
       "\t 91 & roc\\_auc  & hand\\_till  & 0.9350209 & 4 & 0.001417366 & Preprocessor1\\_Model10\\\\\n",
       "\\end{tabular}\n"
      ],
      "text/markdown": [
       "\n",
       "A tibble: 20 × 7\n",
       "\n",
       "| neighbors &lt;dbl&gt; | .metric &lt;chr&gt; | .estimator &lt;chr&gt; | mean &lt;dbl&gt; | n &lt;int&gt; | std_err &lt;dbl&gt; | .config &lt;chr&gt; |\n",
       "|---|---|---|---|---|---|---|\n",
       "|  1 | accuracy | multiclass | 0.6523131 | 4 | 0.005465227 | Preprocessor1_Model01 |\n",
       "|  1 | roc_auc  | hand_till  | 0.8029898 | 4 | 0.003745297 | Preprocessor1_Model01 |\n",
       "| 11 | accuracy | multiclass | 0.6930897 | 4 | 0.001780009 | Preprocessor1_Model02 |\n",
       "| 11 | roc_auc  | hand_till  | 0.9352862 | 4 | 0.002348743 | Preprocessor1_Model02 |\n",
       "| 21 | accuracy | multiclass | 0.6913812 | 4 | 0.003233039 | Preprocessor1_Model03 |\n",
       "| 21 | roc_auc  | hand_till  | 0.9394713 | 4 | 0.001671032 | Preprocessor1_Model03 |\n",
       "| 31 | accuracy | multiclass | 0.6866284 | 4 | 0.003099973 | Preprocessor1_Model04 |\n",
       "| 31 | roc_auc  | hand_till  | 0.9413360 | 4 | 0.002078753 | Preprocessor1_Model04 |\n",
       "| 41 | accuracy | multiclass | 0.6833966 | 4 | 0.004212672 | Preprocessor1_Model05 |\n",
       "| 41 | roc_auc  | hand_till  | 0.9403723 | 4 | 0.002178079 | Preprocessor1_Model05 |\n",
       "| 51 | accuracy | multiclass | 0.6797852 | 4 | 0.003287302 | Preprocessor1_Model06 |\n",
       "| 51 | roc_auc  | hand_till  | 0.9398910 | 4 | 0.002217907 | Preprocessor1_Model06 |\n",
       "| 61 | accuracy | multiclass | 0.6777879 | 4 | 0.002544681 | Preprocessor1_Model07 |\n",
       "| 61 | roc_auc  | hand_till  | 0.9383269 | 4 | 0.002140488 | Preprocessor1_Model07 |\n",
       "| 71 | accuracy | multiclass | 0.6763628 | 4 | 0.002757908 | Preprocessor1_Model08 |\n",
       "| 71 | roc_auc  | hand_till  | 0.9375822 | 4 | 0.001414867 | Preprocessor1_Model08 |\n",
       "| 81 | accuracy | multiclass | 0.6758875 | 4 | 0.003450831 | Preprocessor1_Model09 |\n",
       "| 81 | roc_auc  | hand_till  | 0.9362311 | 4 | 0.001428369 | Preprocessor1_Model09 |\n",
       "| 91 | accuracy | multiclass | 0.6730362 | 4 | 0.002769722 | Preprocessor1_Model10 |\n",
       "| 91 | roc_auc  | hand_till  | 0.9350209 | 4 | 0.001417366 | Preprocessor1_Model10 |\n",
       "\n"
      ],
      "text/plain": [
       "   neighbors .metric  .estimator mean      n std_err     .config              \n",
       "1   1        accuracy multiclass 0.6523131 4 0.005465227 Preprocessor1_Model01\n",
       "2   1        roc_auc  hand_till  0.8029898 4 0.003745297 Preprocessor1_Model01\n",
       "3  11        accuracy multiclass 0.6930897 4 0.001780009 Preprocessor1_Model02\n",
       "4  11        roc_auc  hand_till  0.9352862 4 0.002348743 Preprocessor1_Model02\n",
       "5  21        accuracy multiclass 0.6913812 4 0.003233039 Preprocessor1_Model03\n",
       "6  21        roc_auc  hand_till  0.9394713 4 0.001671032 Preprocessor1_Model03\n",
       "7  31        accuracy multiclass 0.6866284 4 0.003099973 Preprocessor1_Model04\n",
       "8  31        roc_auc  hand_till  0.9413360 4 0.002078753 Preprocessor1_Model04\n",
       "9  41        accuracy multiclass 0.6833966 4 0.004212672 Preprocessor1_Model05\n",
       "10 41        roc_auc  hand_till  0.9403723 4 0.002178079 Preprocessor1_Model05\n",
       "11 51        accuracy multiclass 0.6797852 4 0.003287302 Preprocessor1_Model06\n",
       "12 51        roc_auc  hand_till  0.9398910 4 0.002217907 Preprocessor1_Model06\n",
       "13 61        accuracy multiclass 0.6777879 4 0.002544681 Preprocessor1_Model07\n",
       "14 61        roc_auc  hand_till  0.9383269 4 0.002140488 Preprocessor1_Model07\n",
       "15 71        accuracy multiclass 0.6763628 4 0.002757908 Preprocessor1_Model08\n",
       "16 71        roc_auc  hand_till  0.9375822 4 0.001414867 Preprocessor1_Model08\n",
       "17 81        accuracy multiclass 0.6758875 4 0.003450831 Preprocessor1_Model09\n",
       "18 81        roc_auc  hand_till  0.9362311 4 0.001428369 Preprocessor1_Model09\n",
       "19 91        accuracy multiclass 0.6730362 4 0.002769722 Preprocessor1_Model10\n",
       "20 91        roc_auc  hand_till  0.9350209 4 0.001417366 Preprocessor1_Model10"
      ]
     },
     "metadata": {},
     "output_type": "display_data"
    }
   ],
   "source": [
    "set.seed(4321)\n",
    "k_vals <- tibble(neighbors = seq(from = 1, to = 100, by = 10))\n",
    "weather_k_results <- workflow() |>\n",
    "      add_recipe(weather_recipe) |>\n",
    "      add_model(knn_tune) |>\n",
    "      tune_grid(resamples = weather_vfold, grid = k_vals) |>\n",
    "      collect_metrics()\n",
    "weather_k_results\n"
   ]
  },
  {
   "cell_type": "markdown",
   "id": "2a1327f6-89ef-4ff3-8b0f-d459755e4e44",
   "metadata": {},
   "source": [
    "after collecting the results, we will use a graph to help us visualize the ideal k value"
   ]
  },
  {
   "cell_type": "code",
   "execution_count": 20,
   "id": "22b2f060-7a21-4551-8ee0-af3c4b8a0ed6",
   "metadata": {},
   "outputs": [
    {
     "data": {
      "image/png": "[encoded data removed]",
      "text/plain": [
       "plot without title"
      ]
     },
     "metadata": {
      "image/png": {
       "height": 420,
       "width": 420
      }
     },
     "output_type": "display_data"
    }
   ],
   "source": [
    "accuracies <- weather_k_results|> \n",
    "      filter(.metric == \"accuracy\")\n",
    "\n",
    "accuracy_versus_k <- ggplot(accuracies, aes(x = neighbors, y = mean))+\n",
    "      geom_point() +\n",
    "      geom_line() +\n",
    "      labs(x = \"Neighbors\", y = \"Accuracy Estimate\") +\n",
    "      scale_x_continuous(breaks = seq(0, 14, by = 1)) +  # adjusting the x-axis\n",
    "      scale_y_continuous(limits = c(0.4, 1.0)) # adjusting the y-axis\n",
    "\n",
    "\n",
    "# your code here\n",
    "accuracy_versus_k"
   ]
  },
  {
   "cell_type": "markdown",
   "id": "c7bbefa4-6191-413f-8fd5-fa1305f657ee",
   "metadata": {},
   "source": [
    "To creat the workflow we will need to scale the data, due to the unbalanced proportions of the data, we will also have to balance using \"step_upsample\""
   ]
  }
 ],
 "metadata": {
  "kernelspec": {
   "display_name": "R",
   "language": "R",
   "name": "ir"
  },
  "language_info": {
   "codemirror_mode": "r",
   "file_extension": ".r",
   "mimetype": "text/x-r-source",
   "name": "R",
   "pygments_lexer": "r",
   "version": "4.1.3"
  }
 },
 "nbformat": 4,
 "nbformat_minor": 5
}
