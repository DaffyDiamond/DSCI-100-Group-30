{
 "cells": [
  {
   "cell_type": "markdown",
   "id": "793d7125-5422-40a3-b414-f592f3d6f54b",
   "metadata": {},
   "source": [
    "# PREDICTING PRECIPITATION PROPOSAL"
   ]
  },
  {
   "cell_type": "markdown",
   "id": "a11eeb0d-ffdf-4e5e-a180-9805cc032785",
   "metadata": {},
   "source": [
    "## Introduction \n",
    "\n",
    "The dataset we are using for our analysis is the daily weather data recorded in vancouver (on visualcrossing.com) between 1st January 2022, and 28th February 2023. This dataset contains information such as the daily temperature, humidity levels, windspeed, precipitation cover and so on. It also includes the daily total precipitation in mm. Since Vancouver experiences a lot of rain throughout the year, we have decided to use this dataset to reasonably predict the total precipitation on any given day based on other meteorological factors, including the average temperature, humidity, and wind speed. Therefore our question is, what is the amount of precipitation expected on a certain day in Vancouver, given the temperature, humidity, and wind speed?"
   ]
  },
  {
   "cell_type": "markdown",
   "id": "4b75f743-7f97-4c32-9899-ddbf2ccfc986",
   "metadata": {},
   "source": [
    "## Methods\n",
    "We will use the temperature (in Celsius), humidity, and the wind velocity in order to determine the expected precipitation amount. Before working with the actual data, we are planning to predict an estimated precipitation by using common sense. For example, when the temperature is high, the expected precipitation is likely going to be on the lower side. Higher wind speed would indicate the higher precipitation rate. Then, we will use the functions and codes that we learned from classification and regression lessons to determine the actual precipitation rate for specific days in Vancouver. We are planning to create three different scatterplots with each having temperature, humidity, and wind speed as x-axis and precipitation as y-axis for all three graphs.\n"
   ]
  },
  {
   "cell_type": "markdown",
   "id": "132a514c-1ccc-4f52-b381-7005e41ed856",
   "metadata": {},
   "source": [
    "## Preliminary exploratory data analysis"
   ]
  },
  {
   "cell_type": "code",
   "execution_count": null,
   "id": "a0aac919-8e6a-4d00-a2ce-2b05e25bf5ec",
   "metadata": {},
   "outputs": [],
   "source": []
  },
  {
   "cell_type": "markdown",
   "id": "16b60d21-c002-4b50-951b-e0fd71b24f9f",
   "metadata": {},
   "source": [
    "## Expected outcomes and significance\n",
    "The expectation is to be able to reasonably predict the amount of precipitation on a given day in Vancouver, British Columbia. We believe that although weather can be unpredictable, if other data indicators are given it may be possible to develop a model for predicting the precipitation amount. The impact of the model being successful would be that it could be useful in finding precipitation amounts without the use of any precipitation measuring tools - therefore it can act as a redundant tool or even a general model that can be scaled. This will lead to future questions of how localized the model will be and how feasible it would be for other locations.\n"
   ]
  }
 ],
 "metadata": {
  "kernelspec": {
   "display_name": "R",
   "language": "R",
   "name": "ir"
  },
  "language_info": {
   "codemirror_mode": "r",
   "file_extension": ".r",
   "mimetype": "text/x-r-source",
   "name": "R",
   "pygments_lexer": "r",
   "version": "4.1.3"
  }
 },
 "nbformat": 4,
 "nbformat_minor": 5
}
